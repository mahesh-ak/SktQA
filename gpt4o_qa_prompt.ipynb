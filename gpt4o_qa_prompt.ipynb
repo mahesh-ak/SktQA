{
 "cells": [
  {
   "cell_type": "code",
   "execution_count": 1,
   "id": "76fe135c",
   "metadata": {},
   "outputs": [
    {
     "data": {
      "text/plain": [
       "True"
      ]
     },
     "execution_count": 1,
     "metadata": {},
     "output_type": "execute_result"
    }
   ],
   "source": [
    "import openai\n",
    "from dotenv import load_dotenv\n",
    "from tqdm import tqdm\n",
    "import pandas as pd\n",
    "import os\n",
    "\n",
    "tqdm.pandas()\n",
    "load_dotenv()"
   ]
  },
  {
   "cell_type": "markdown",
   "id": "04327b86",
   "metadata": {},
   "source": [
    "## Load QA data"
   ]
  },
  {
   "cell_type": "code",
   "execution_count": 573,
   "id": "ff63e616",
   "metadata": {},
   "outputs": [],
   "source": [
    "qa_df = pd.read_csv('data/sample.tsv', sep='\\t')"
   ]
  },
  {
   "cell_type": "code",
   "execution_count": 574,
   "id": "8565b531",
   "metadata": {
    "scrolled": true
   },
   "outputs": [],
   "source": [
    "qa_df.drop(columns=['gpt-4o','gpt-4','gpt-3.5-turbo'], inplace=True)\n",
    "qa_df.to_csv('data/sample.tsv',sep='\\t',index=False)"
   ]
  },
  {
   "cell_type": "markdown",
   "id": "075c3be2",
   "metadata": {},
   "source": [
    "## Zero-shot QA prompt"
   ]
  },
  {
   "cell_type": "code",
   "execution_count": 65,
   "id": "4c340ff8-4e0f-431d-98b9-fcafce7b29f5",
   "metadata": {},
   "outputs": [],
   "source": [
    "from langchain_openai import ChatOpenAI\n",
    "\n",
    "chat_model = ChatOpenAI(model=\"gpt-4o\")"
   ]
  },
  {
   "cell_type": "code",
   "execution_count": 572,
   "id": "3a861ecc-1418-4dab-adf4-7e2fa2bec0cf",
   "metadata": {},
   "outputs": [],
   "source": [
    "from langchain_anthropic import ChatAnthropic\n",
    "\n",
    "chat_model = ChatAnthropic(model=\"claude-3-5-sonnet-20240620\")"
   ]
  },
  {
   "cell_type": "code",
   "execution_count": 67,
   "id": "5e1a8bd0-06e5-436b-b732-0deb8e7bc65f",
   "metadata": {
    "scrolled": true
   },
   "outputs": [
    {
     "name": "stderr",
     "output_type": "stream",
     "text": [
      "/home/maheshak/anaconda3/envs/new_base/lib/python3.12/site-packages/google_crc32c/__init__.py:29: RuntimeWarning: As the c extension couldn't be imported, `google-crc32c` is using a pure python implementation that is significantly slower. If possible, please configure a c build environment and compile the extension\n",
      "  warnings.warn(_SLOW_CRC32C_WARNING, RuntimeWarning)\n"
     ]
    }
   ],
   "source": [
    "from langchain_google_vertexai import ChatVertexAI\n",
    "\n",
    "chat_model = ChatVertexAI(model=\"gemini-1.5-pro\")"
   ]
  },
  {
   "cell_type": "code",
   "execution_count": 68,
   "id": "c732df24-e1c1-446d-9bc2-be363596ecc5",
   "metadata": {},
   "outputs": [],
   "source": [
    "from langchain_mistralai import ChatMistralAI\n",
    "\n",
    "chat_model = ChatMistralAI(model=\"mistral-large-latest\", api_key= os.environ['MISTRAL_API_KEY'])"
   ]
  },
  {
   "cell_type": "code",
   "execution_count": 69,
   "id": "10206fb4-c63e-4227-a3b7-7939839c31ff",
   "metadata": {},
   "outputs": [],
   "source": [
    "from langchain_fireworks import ChatFireworks\n",
    "\n",
    "chat_model = ChatFireworks(model=\"accounts/fireworks/models/llama-v3p1-8b-instruct\", api_key=os.environ['FIREWORKS_API_KEY'])"
   ]
  },
  {
   "cell_type": "code",
   "execution_count": 13,
   "id": "787dcda1-e4a8-4eb8-ad58-b0a2050d7411",
   "metadata": {},
   "outputs": [],
   "source": [
    "from langchain_core.prompts.chat import ChatPromptTemplate\n",
    "\n",
    "template = \"त्वया संस्कृत-भाषायाम् एव वक्तव्यम्। न तु अन्यासु भाषासु। अधः रामायण-सम्बन्धे पृष्ट-प्रश्नस्य प्रत्युत्तरं देहि। तदपि एकेनैव पदेन, यावद् लघु शक्यं तावद्, तं पुनः विवृतम् मा कुरु।\"\n",
    "human_template = \"{question}\"\n",
    "\n",
    "chat_prompt = ChatPromptTemplate.from_messages([\n",
    "    (\"system\", template),\n",
    "    (\"human\", human_template),\n",
    "])\n",
    "\n",
    "def output_parse(ai_message):\n",
    "    return ai_message.content.replace('।','').strip()\n",
    "    \n",
    "zeroshot_chain = chat_prompt | chat_model | output_parse"
   ]
  },
  {
   "cell_type": "code",
   "execution_count": 14,
   "id": "d6b23155-4e94-4eb6-afdb-43683ddb1376",
   "metadata": {},
   "outputs": [
    {
     "data": {
      "text/plain": [
       "'Valmiki'"
      ]
     },
     "execution_count": 14,
     "metadata": {},
     "output_type": "execute_result"
    }
   ],
   "source": [
    "question = qa_df['QUESTION'][9]\n",
    "zeroshot_chain.invoke({'question': question})"
   ]
  },
  {
   "cell_type": "code",
   "execution_count": 7,
   "id": "be89414e",
   "metadata": {
    "scrolled": true
   },
   "outputs": [
    {
     "name": "stderr",
     "output_type": "stream",
     "text": [
      "100%|███████████████████████████████████████████| 60/60 [01:05<00:00,  1.10s/it]\n"
     ]
    }
   ],
   "source": [
    "working_df = pd.read_csv('results/predictions.tsv', sep='\\t')\n",
    "working_df['gpt-4o-mini'] = working_df.progress_apply(lambda x: zeroshot_chain.invoke({\"question\": x['QUESTION']}), axis=1)"
   ]
  },
  {
   "cell_type": "code",
   "execution_count": 8,
   "id": "8e594ec4",
   "metadata": {},
   "outputs": [
    {
     "data": {
      "text/plain": [
       "{'QUESTION': 0.0,\n",
       " 'ANSWER': 1.0,\n",
       " 'gpt-4o': 0.483,\n",
       " 'gpt-4': 0.517,\n",
       " 'gpt-3.5-turbo': 0.0,\n",
       " 'gpt-4o-RAG': 0.55,\n",
       " 'gpt-4o-KG-RAG': 0.383,\n",
       " 'claude-3-5-sonnet': 0.717,\n",
       " 'claude-3.5-sonnet-RAG': 0.6,\n",
       " 'gemini-1.0-pro': 0.183,\n",
       " 'gemini-1.5-flash': 0.267,\n",
       " 'gemini-1.5-pro': 0.567,\n",
       " 'mistral-large': 0.583,\n",
       " 'llama-3.1-405B-instruct': 0.433,\n",
       " 'mistral-large-RAG': 0.567,\n",
       " 'llama-3.1-80b-i-KG-RAG': 0.2,\n",
       " 'gpt-4o-mini': 0.017}"
      ]
     },
     "execution_count": 8,
     "metadata": {},
     "output_type": "execute_result"
    }
   ],
   "source": [
    "models = working_df.columns\n",
    "scores = {m: 0 for m in models}\n",
    "\n",
    "for m in models:\n",
    "    em = working_df.apply(lambda x: str(x['ANSWER']).strip() == str(x[m]).strip(), axis=1)\n",
    "    scores[m] = round(em.sum()/len(em), 3)\n",
    "scores"
   ]
  },
  {
   "cell_type": "code",
   "execution_count": 60,
   "id": "c748803d-6ba9-40b7-97e0-27916c68ae78",
   "metadata": {},
   "outputs": [],
   "source": [
    "working_df.to_csv('results/predictions.tsv', index=False, sep='\\t')"
   ]
  },
  {
   "cell_type": "markdown",
   "id": "1adea629",
   "metadata": {},
   "source": [
    "## RAG prompt"
   ]
  },
  {
   "cell_type": "code",
   "execution_count": 233,
   "id": "8cd698a1",
   "metadata": {},
   "outputs": [],
   "source": [
    "os.environ['LANGCHAIN_TRACING_V2'] = 'false'"
   ]
  },
  {
   "cell_type": "code",
   "execution_count": 575,
   "id": "cfb0b958-6aa4-464a-8f4a-9dcdba4b924f",
   "metadata": {},
   "outputs": [],
   "source": [
    "from langchain_core.documents import Document\n",
    "from langchain.text_splitter import RecursiveCharacterTextSplitter\n",
    "from langchain_community.document_loaders.text import TextLoader\n",
    "\n",
    "# Load Documents\n",
    "loader = TextLoader(file_path='data/ref/rAmAyaNa_dev.txt')\n",
    "docs = loader.load()\n",
    "\n",
    "# Split\n",
    "text_splitter = RecursiveCharacterTextSplitter(chunk_size=1500, chunk_overlap=300)\n",
    "#text_splitter = RecursiveCharacterTextSplitter(chunk_size=450, chunk_overlap=90)\n",
    "splits = text_splitter.split_documents(docs)"
   ]
  },
  {
   "cell_type": "code",
   "execution_count": 576,
   "id": "93ec4fac-5936-4942-a3e4-eb71ebce0f8d",
   "metadata": {
    "scrolled": true
   },
   "outputs": [],
   "source": [
    "from transformers import AutoTokenizer, DataCollatorForSeq2Seq, T5ForConditionalGeneration\n",
    "from indic_transliteration.sanscript import IAST, DEVANAGARI, transliterate\n",
    "import torch\n",
    "import regex as re\n",
    "\n",
    "checkpoint = 'mahesh27/t5lemmatizer'\n",
    "tokenizer = AutoTokenizer.from_pretrained(checkpoint)\n",
    "lemmatizer_model = T5ForConditionalGeneration.from_pretrained(checkpoint)\n",
    "data_collator = DataCollatorForSeq2Seq(tokenizer=tokenizer)\n",
    "\n",
    "def lemmatize(chunk, translate_only=False):\n",
    "    text = chunk.replace('\\n\\n','\\n').split('\\n')\n",
    "    pattern = re.compile(r'[0-9]+,[0-9]+\\|[0-9]+')\n",
    "    lines = [pattern.sub('',transliterate(line, DEVANAGARI, IAST)) for line in text]\n",
    "    if translate_only:\n",
    "        return ' '.join(lines)\n",
    "    tokenized_text = [{'input_ids': tokenizer(line)['input_ids'] + [tokenizer.eos_token_id]} for line in lines]\n",
    "    \n",
    "    inputs = data_collator(tokenized_text)\n",
    "    with torch.no_grad():\n",
    "        outputs = lemmatizer_model.generate(inputs=inputs['input_ids'], max_length=64)\n",
    "    \n",
    "    return ' '.join(tokenizer.batch_decode(outputs, skip_special_tokens=True))"
   ]
  },
  {
   "cell_type": "code",
   "execution_count": null,
   "id": "0e2e3509-c5e2-43e0-a2e9-651c0469d15d",
   "metadata": {},
   "outputs": [],
   "source": [
    "for split in tqdm(splits):\n",
    "    split.metadata['text'] = split.page_content\n",
    "    split.page_content = lemmatize(split.page_content, translate_only=False)"
   ]
  },
  {
   "cell_type": "code",
   "execution_count": 237,
   "id": "89bfe53e",
   "metadata": {},
   "outputs": [],
   "source": [
    "from langchain_community.retrievers import BM25Retriever\n",
    "from langchain_core.output_parsers import StrOutputParser\n",
    "from langchain_core.runnables import RunnablePassthrough, RunnableLambda\n",
    "from langchain_openai import ChatOpenAI\n",
    "from langchain_anthropic import ChatAnthropic\n",
    "from langchain.prompts import PromptTemplate\n",
    "from langchain_chroma import Chroma"
   ]
  },
  {
   "cell_type": "code",
   "execution_count": 86,
   "id": "7059850a-1662-43ae-98c5-543bd1315d2b",
   "metadata": {},
   "outputs": [],
   "source": [
    "#### custom Embeddings ####\n",
    "import importlib\n",
    "from typing import Optional, cast, List\n",
    "from itertools import batched\n",
    "import numpy as np\n",
    "import numpy.typing as npt\n",
    "from chromadb.api.types import EmbeddingFunction, Documents, Embeddings\n",
    "import math\n",
    "\n",
    "\n",
    "class TransformerEmbeddingFunction(EmbeddingFunction[Documents]):\n",
    "    def __init__(\n",
    "            self,\n",
    "            model_name: str = \"mahesh27/vedicberta-base\",\n",
    "            cache_dir: Optional[str] = None,\n",
    "    ):\n",
    "        try:\n",
    "            from transformers import AutoModel, AutoTokenizer, DataCollatorWithPadding\n",
    "\n",
    "            self._torch = importlib.import_module(\"torch\")\n",
    "            self._tokenizer = AutoTokenizer.from_pretrained(model_name)\n",
    "            print(self._tokenizer.pad_token_id)\n",
    "            self._model = AutoModel.from_pretrained(model_name, cache_dir=cache_dir)\n",
    "            self._datacollator = DataCollatorWithPadding(tokenizer=self._tokenizer, return_tensors='pt')\n",
    "            self._max_length = self._model.config.max_position_embeddings\n",
    "            self._eps = 1e-5\n",
    "        except ImportError:\n",
    "            raise ValueError(\n",
    "                \"The transformers and/or pytorch python package is not installed. Please install it with \"\n",
    "                \"`pip install transformers` or `pip install torch`\"\n",
    "            )\n",
    "\n",
    "    @staticmethod\n",
    "    def _normalize(vector: npt.NDArray) -> npt.NDArray:\n",
    "        \"\"\"Normalizes a vector to unit length using L2 norm.\"\"\"\n",
    "        norm = np.linalg.norm(vector)\n",
    "        if norm == 0:\n",
    "            return vector\n",
    "        return vector / norm\n",
    "\n",
    "    def __call__(self, input: Documents) -> Embeddings:\n",
    "        tokenized_text = [self._tokenizer(text, truncation=True, max_length=self._max_length) for text in input]\n",
    "        inputs = self._datacollator(tokenized_text)\n",
    "        with self._torch.no_grad():\n",
    "            outputs = self._model(**inputs)\n",
    "        embeddings = (outputs.last_hidden_state*inputs['attention_mask'].unsqueeze(-1)).sum(dim=1)/(inputs['attention_mask'].sum(dim=1).unsqueeze(1)+self._eps)  # mean pooling\n",
    "        return [e.tolist() for e in self._normalize(embeddings)]\n",
    "\n",
    "    def embed_documents(self, texts: List[str]) -> List[List[float]]:\n",
    "        batch_length = 4\n",
    "        out = []\n",
    "        for batch in tqdm(batched(texts, batch_length), total = math.ceil(len(texts)//batch_length)):\n",
    "            out += self(batch)\n",
    "        \n",
    "        return out\n",
    "\n",
    "    def embed_query(self, text: str) -> List[float]:\n",
    "        return self([text])[0]"
   ]
  },
  {
   "cell_type": "code",
   "execution_count": 238,
   "id": "b518bfce-2838-475a-aed1-caddc0bf15e9",
   "metadata": {},
   "outputs": [],
   "source": [
    "import importlib\n",
    "from typing import Optional, cast, List\n",
    "import numpy as np\n",
    "import numpy.typing as npt\n",
    "from chromadb.api.types import EmbeddingFunction, Documents, Embeddings\n",
    "import fasttext as ft\n",
    "from gensim.models import KeyedVectors as kv\n",
    "\n",
    "class VectorEmbeddingFunction(EmbeddingFunction[Documents]):\n",
    "    def __init__(\n",
    "            self,\n",
    "            model_name: str = \"gl\",\n",
    "            cache_dir: Optional[str] = None,\n",
    "    ):\n",
    "        self._model_name = model_name\n",
    "        if model_name == \"gl\":\n",
    "            self._model = kv.load_word2vec_format(\"sa_embedding/models/glove/vectors.vec\", binary=False)\n",
    "            self._word_vec = lambda x: self._model[x]\n",
    "        elif model_name == \"ft\":\n",
    "            self._model = ft.load_model(\"sa_embedding/models/fasttext/vectors.bin\")\n",
    "            self._word_vec = lambda x: self._model.get_word_vector(x)\n",
    "    \n",
    "    \n",
    "    @staticmethod\n",
    "    def _normalize(vector: npt.NDArray) -> npt.NDArray:\n",
    "        \"\"\"Normalizes a vector to unit length using L2 norm.\"\"\"\n",
    "        norm = np.linalg.norm(vector)\n",
    "        if norm == 0:\n",
    "            return vector\n",
    "        return vector / norm\n",
    "        \n",
    "    def sentence2vec(self, sentence: str) -> npt.NDArray:\n",
    "        words = sentence.split()\n",
    "        word_vectors = []\n",
    "        \n",
    "        for word in words:\n",
    "            if self._model_name == 'ft' or word in self._model:\n",
    "                word_vectors.append(self._word_vec(word))\n",
    "        \n",
    "        if not word_vectors:\n",
    "            return np.zeros(self._model.vector_size)\n",
    "        \n",
    "        # Compute the average vector\n",
    "        avg_vector = np.mean(word_vectors, axis=0)\n",
    "        \n",
    "        return avg_vector\n",
    "\n",
    "\n",
    "    def __call__(self, input: Documents) -> Embeddings:\n",
    "        embeddings = []\n",
    "        for text in input:\n",
    "            embeddings.append(self.sentence2vec(text))\n",
    "        return [e.tolist() for e in self._normalize(embeddings)]\n",
    "\n",
    "    def embed_documents(self, texts: List[str]) -> List[List[float]]:\n",
    "        return self(texts)\n",
    "\n",
    "    def embed_query(self, text: str) -> List[float]:\n",
    "        return self([text])[0]"
   ]
  },
  {
   "cell_type": "code",
   "execution_count": 239,
   "id": "f357ac7f-92ba-4750-b760-069699c2f0bc",
   "metadata": {
    "scrolled": true
   },
   "outputs": [],
   "source": [
    "embedding = VectorEmbeddingFunction(model_name='ft')\n",
    "vectorstore = Chroma.from_documents(documents=splits, embedding=embedding)\n",
    "# Retrieve and generate using the relevant snippets of the blog.\n",
    "retriever = vectorstore.as_retriever()"
   ]
  },
  {
   "cell_type": "code",
   "execution_count": 240,
   "id": "3ceef9dc-f190-49c3-9fbc-27e6d2b88ec9",
   "metadata": {},
   "outputs": [],
   "source": [
    "#### INDEXING with BM25 ####\n",
    "retriever = BM25Retriever.from_documents(splits)"
   ]
  },
  {
   "cell_type": "code",
   "execution_count": 241,
   "id": "c6200bb1-0604-4601-907b-25e8a5b0c85b",
   "metadata": {},
   "outputs": [],
   "source": [
    "#question = qa_df['QUESTION'][26]\n",
    "question = 'गवाक्षस्य सेनायाः का जातिः?'"
   ]
  },
  {
   "cell_type": "code",
   "execution_count": 242,
   "id": "f8b647d3-f728-4b79-bf66-06bec612707d",
   "metadata": {
    "scrolled": true
   },
   "outputs": [
    {
     "data": {
      "text/plain": [
       "4"
      ]
     },
     "execution_count": 242,
     "metadata": {},
     "output_type": "execute_result"
    }
   ],
   "source": [
    "docs = retriever.invoke(lemmatize(question, translate_only=False))\n",
    "len(docs)"
   ]
  },
  {
   "cell_type": "code",
   "execution_count": 244,
   "id": "96f1eca8-b8f1-482c-b58d-b2cf55a4ba89",
   "metadata": {},
   "outputs": [
    {
     "data": {
      "text/plain": [
       "'श्रुत्वा हनूमतो वाक्यं यथावदनुपूर्वशः\\nततोऽब्रवीन्महातेजा रामः सत्यपराक्रमः ६,००४।००१\\n\\nयां निवेदयसे लङ्कां पुरीं भीमस्य रक्षसः\\nक्षिप्रमेनां वधिष्यामि सत्यमेतद्ब्रवीमि ते ६,००४।००२\\n\\nअस्मिन्मुहूर्ते सुग्रीव प्रयाणमभिरोचये\\nयुक्तो मुहूर्तो विजयः प्राप्तो मध्यं दिवाकरः ६,००४।००३\\n\\nउत्तरा फल्गुनी ह्यद्य श्वस्तु हस्तेन योक्ष्यते\\nअभिप्रयाम सुग्रीव सर्वानीकसमावृताः ६,००४।००४\\n\\nनिमित्तानि च धन्यानि यानि प्रादुर्भवन्ति मे\\nनिहत्य रावणं सीतामानयिष्यामि जानकीम् ६,००४।००५\\n\\nउपरिष्टाद्धि नयनं स्फुरमाणमिदं मम\\nविजयं समनुप्राप्तं शंसतीव मनोरथम् ६,००४।००६\\n\\nअग्रे यातु बलस्यास्य नीलो मार्गमवेक्षितुम्\\nवृतः शतसहस्रेण वानराणां तरस्विनाम् ६,००४।००७\\n\\nफलमूलवता नील शीतकाननवारिणा\\nपथा मधुमता चाशु सेनां सेनापते नय ६,००४।००८\\n\\nदूषयेयुर्दुरात्मानः पथि मूलफलोदकम्\\nराक्षसाः परिरक्षेथास्तेभ्यस्त्वं नित्यमुद्यतः ६,००४।००९\\n\\nनिम्नेषु वनदुर्गेषु वनेषु च वनौकसः\\nअभिप्लुत्याभिपश्येयुः परेषां निहतं बलम् ६,००४।०१०\\n\\nसागरौघनिभं भीममग्रानीकं महाबलाः\\nकपिसिंहा प्रकर्षन्तु शतशोऽथ सहस्रशः ६,००४।०११\\n\\nगजश्च गिरिसंकाशो गवयश्च महाबलः\\nगवाक्षश्चाग्रतो यान्तु गवां दृप्ता इवर्षभाः ६,००४।०१२\\n\\nयातु वानरवाहिन्या वानरः प्लवतां पतिः\\nपालयन्दक्षिणं पार्श्वमृषभो वानरर्षभः ६,००४।०१३\\n\\nगन्धहस्तीव दुर्धर्षस्तरस्वी गन्धमादनः\\nयातु वानरवाहिन्याः सव्यं पार्श्वमधिष्ठितः ६,००४।०१४\\n\\nयास्यामि बलमध्येऽहं बलौघमभिहर्षयन्\\nअधिरुह्य हनूमन्तमैरावतमिवेश्वरः ६,००४।०१५\\n\\nअङ्गदेनैष संयातु लक्ष्मणश्चान्तकोपमः\\nसार्वभौमेण भूतेशो द्रविणाधिपतिर्यथा ६,००४।०१६\\n\\nजाम्बवांश्च सुषेणश्च वेगदर्शी च वानरः\\nऋक्षराजो महासत्त्वः कुक्षिं रक्षन्तु ते त्रयः ६,००४।०१७'"
      ]
     },
     "execution_count": 244,
     "metadata": {},
     "output_type": "execute_result"
    }
   ],
   "source": [
    "docs[0].metadata['text']"
   ]
  },
  {
   "cell_type": "code",
   "execution_count": 245,
   "id": "a23702b3",
   "metadata": {},
   "outputs": [
    {
     "data": {
      "text/plain": [
       "'वानरः'"
      ]
     },
     "execution_count": 245,
     "metadata": {},
     "output_type": "execute_result"
    }
   ],
   "source": [
    "#### RETRIEVAL and GENERATION ####\n",
    "# Prompt \n",
    "template = \"\"\"त्वया संस्कृत-भाषायाम् एव वक्तव्यम्। न तु अन्यासु भाषासु। अधः रामायण-सम्बन्धे पृष्ट-प्रश्नस्य प्रत्युत्तरं देहि। तदपि एकेनैव पदेन, यावद् लघु शक्यं तावद्, तं पुनः विवृतम् मा कुरु। अपि च यथाऽवश्यम् अधः दत्त-सन्दर्भेभ्यः सहाय्यं गृहाण। तत्तु सर्वदा साधु इति नाऽस्ति प्रतीतिः।\n",
    "     सन्दर्भाः:{context}\n",
    "     प्रश्नः:{question}\n",
    "    \"\"\"\n",
    "prompt = PromptTemplate.from_template(template)\n",
    "# LLM\n",
    "llm = ChatOpenAI(model_name=\"gpt-4o\", temperature=0)\n",
    "#llm = ChatAnthropic(model_name=\"claude-3-5-sonnet-20240620\", temperature=0)\n",
    "#llm = ChatVertexAI(model_name=\"gemini-1.5-pro\", temperature=0)\n",
    "#llm = ChatMistralAI(model_name=\"mistral-large-latest\", api_key= os.environ['MISTRAL_API_KEY'], temperature=0)\n",
    "#llm = ChatFireworks(model_name=\"accounts/fireworks/models/llama-v3p1-405b-instruct\", api_key=os.environ['FIREWORKS_API_KEY'], temperature=0, max_tokens=20)\n",
    "\n",
    "# Post-processing\n",
    "def format_docs(docs):\n",
    "    return '\\n\\n'.join([doc.metadata['text'] for doc in docs[:2]])\n",
    "\n",
    "# Chain\n",
    "rag_chain = (\n",
    "    {\"context\": RunnableLambda(lambda x: lemmatize(x, translate_only=True)) | retriever | format_docs, \"question\": RunnablePassthrough()}\n",
    "    | prompt\n",
    "    | llm\n",
    "    | StrOutputParser() \n",
    "    | RunnableLambda(lambda x: x.replace('।','').strip())\n",
    ")\n",
    "\n",
    "\n",
    "rag_chain.invoke(question)"
   ]
  },
  {
   "cell_type": "code",
   "execution_count": 246,
   "id": "756c8c30-5d9e-4021-8862-bc766c1cb811",
   "metadata": {},
   "outputs": [
    {
     "name": "stderr",
     "output_type": "stream",
     "text": [
      "100%|███████████████████████████████████████████| 60/60 [00:54<00:00,  1.11it/s]\n"
     ]
    }
   ],
   "source": [
    "working_df['gpt-4o-RAG-restricted'] = working_df.progress_apply(lambda x: rag_chain.invoke(x['QUESTION']), axis=1)"
   ]
  },
  {
   "cell_type": "code",
   "execution_count": 247,
   "id": "207d869c-9c4a-4c30-a953-a2204202b062",
   "metadata": {
    "scrolled": true
   },
   "outputs": [
    {
     "data": {
      "text/plain": [
       "{'QUESTION': 0.0,\n",
       " 'ANSWER': 1.0,\n",
       " 'gpt-4o': 0.483,\n",
       " 'gpt-4': 0.517,\n",
       " 'gpt-3.5-turbo': 0.0,\n",
       " 'gpt-4o-RAG': 0.55,\n",
       " 'gpt-4o-KG-RAG': 0.483,\n",
       " 'claude-3-5-sonnet': 0.717,\n",
       " 'claude-3.5-sonnet-RAG': 0.6,\n",
       " 'gemini-1.0-pro': 0.183,\n",
       " 'gemini-1.5-flash': 0.267,\n",
       " 'gemini-1.5-pro': 0.567,\n",
       " 'mistral-large': 0.583,\n",
       " 'llama-3.1-405B-instruct': 0.433,\n",
       " 'mistral-large-RAG': 0.567,\n",
       " 'llama-3.1-80b-i-KG-RAG': 0.2,\n",
       " 'gpt-4o-RAG-ft': 0.567,\n",
       " 'gpt-4o-RAG-gl': 0.433,\n",
       " 'gpt-4o-KG-RAG-responses': 0.0,\n",
       " 'gpt-4o-KG-RAG-query': 0.0,\n",
       " 'gpt-4o-RAG-restricted': 0.533}"
      ]
     },
     "execution_count": 247,
     "metadata": {},
     "output_type": "execute_result"
    }
   ],
   "source": [
    "models = working_df.columns\n",
    "scores = {m: 0 for m in models}\n",
    "\n",
    "for m in models:\n",
    "    em = working_df.apply(lambda x: str(x['ANSWER']).strip() == str(x[m]).strip(), axis=1)\n",
    "    scores[m] = round(em.sum()/len(em), 3)\n",
    "\n",
    "scores"
   ]
  },
  {
   "cell_type": "code",
   "execution_count": 50,
   "id": "81cbc5cf-0aa1-41e4-aecd-0eb5e1f03da9",
   "metadata": {},
   "outputs": [],
   "source": [
    "working_df.to_csv('results/predictions.tsv', index=False, sep='\\t')"
   ]
  },
  {
   "cell_type": "code",
   "execution_count": 74,
   "id": "405b32f4-1f7c-4ff4-8965-8cc8202bd0a0",
   "metadata": {},
   "outputs": [
    {
     "data": {
      "text/plain": [
       "'सुरसा'"
      ]
     },
     "execution_count": 74,
     "metadata": {},
     "output_type": "execute_result"
    }
   ],
   "source": [
    "rag_chain.invoke(\"किं नम सरोवरः यः समन्तान् योजनं विस्तीर्य तिष्ठति?\")"
   ]
  },
  {
   "cell_type": "markdown",
   "id": "531c6f03-cf93-4bd4-930d-f674f8fd422b",
   "metadata": {},
   "source": [
    "## KG RAG"
   ]
  },
  {
   "cell_type": "markdown",
   "id": "5350a346-d32a-498e-8e33-00596bda8aae",
   "metadata": {},
   "source": [
    "### Curate KG"
   ]
  },
  {
   "cell_type": "code",
   "execution_count": 426,
   "id": "8edb8c59-92f9-4f83-b369-ea8a232c0599",
   "metadata": {},
   "outputs": [],
   "source": [
    "nodes_df = pd.read_csv('data/kg/sample/nodes.csv')\n",
    "relationships_df = pd.read_csv('data/kg/sample/edges.csv')"
   ]
  },
  {
   "cell_type": "code",
   "execution_count": 427,
   "id": "0bfa6a08-0c90-45d2-998a-5da5ade3705d",
   "metadata": {},
   "outputs": [],
   "source": [
    "relationships_df.drop(columns=['annotator', 'line_id', 'line_text', 'detail'], inplace=True)"
   ]
  },
  {
   "cell_type": "code",
   "execution_count": 428,
   "id": "f2050a86-839c-42b4-b494-1c84c53bfc86",
   "metadata": {},
   "outputs": [],
   "source": [
    "nodes_df.drop(columns=['annotator', 'line_id', 'line_text'], inplace=True)"
   ]
  },
  {
   "cell_type": "code",
   "execution_count": 429,
   "id": "9ca6edb3-cb8e-4afa-ab66-ebfb28fd7ab3",
   "metadata": {},
   "outputs": [
    {
     "data": {
      "text/html": [
       "<div>\n",
       "<style scoped>\n",
       "    .dataframe tbody tr th:only-of-type {\n",
       "        vertical-align: middle;\n",
       "    }\n",
       "\n",
       "    .dataframe tbody tr th {\n",
       "        vertical-align: top;\n",
       "    }\n",
       "\n",
       "    .dataframe thead th {\n",
       "        text-align: right;\n",
       "    }\n",
       "</style>\n",
       "<table border=\"1\" class=\"dataframe\">\n",
       "  <thead>\n",
       "    <tr style=\"text-align: right;\">\n",
       "      <th></th>\n",
       "      <th>:ID</th>\n",
       "      <th>:LABEL</th>\n",
       "      <th>lemma</th>\n",
       "    </tr>\n",
       "  </thead>\n",
       "  <tbody>\n",
       "    <tr>\n",
       "      <th>0</th>\n",
       "      <td>1</td>\n",
       "      <td>Town</td>\n",
       "      <td>अयोध्या</td>\n",
       "    </tr>\n",
       "    <tr>\n",
       "      <th>1</th>\n",
       "      <td>2</td>\n",
       "      <td>Kingdom</td>\n",
       "      <td>कोसल</td>\n",
       "    </tr>\n",
       "    <tr>\n",
       "      <th>2</th>\n",
       "      <td>3</td>\n",
       "      <td>River</td>\n",
       "      <td>शरयू</td>\n",
       "    </tr>\n",
       "    <tr>\n",
       "      <th>3</th>\n",
       "      <td>4</td>\n",
       "      <td>Human</td>\n",
       "      <td>अंशुमान</td>\n",
       "    </tr>\n",
       "    <tr>\n",
       "      <th>4</th>\n",
       "      <td>5</td>\n",
       "      <td>Human</td>\n",
       "      <td>राम</td>\n",
       "    </tr>\n",
       "    <tr>\n",
       "      <th>...</th>\n",
       "      <td>...</td>\n",
       "      <td>...</td>\n",
       "      <td>...</td>\n",
       "    </tr>\n",
       "    <tr>\n",
       "      <th>673</th>\n",
       "      <td>708</td>\n",
       "      <td>Loka</td>\n",
       "      <td>पितृलोक</td>\n",
       "    </tr>\n",
       "    <tr>\n",
       "      <th>674</th>\n",
       "      <td>709</td>\n",
       "      <td>Demon</td>\n",
       "      <td>पिशाच</td>\n",
       "    </tr>\n",
       "    <tr>\n",
       "      <th>675</th>\n",
       "      <td>710</td>\n",
       "      <td>Rakshasa</td>\n",
       "      <td>पिशाच 1</td>\n",
       "    </tr>\n",
       "    <tr>\n",
       "      <th>676</th>\n",
       "      <td>711</td>\n",
       "      <td>Nymph</td>\n",
       "      <td>पुण्डरीका</td>\n",
       "    </tr>\n",
       "    <tr>\n",
       "      <th>677</th>\n",
       "      <td>712</td>\n",
       "      <td>Rakshashi</td>\n",
       "      <td>पुञ्जिकस्थला</td>\n",
       "    </tr>\n",
       "  </tbody>\n",
       "</table>\n",
       "<p>678 rows × 3 columns</p>\n",
       "</div>"
      ],
      "text/plain": [
       "     :ID     :LABEL         lemma\n",
       "0      1       Town       अयोध्या\n",
       "1      2    Kingdom          कोसल\n",
       "2      3      River          शरयू\n",
       "3      4      Human       अंशुमान\n",
       "4      5      Human           राम\n",
       "..   ...        ...           ...\n",
       "673  708       Loka       पितृलोक\n",
       "674  709      Demon         पिशाच\n",
       "675  710   Rakshasa       पिशाच 1\n",
       "676  711      Nymph     पुण्डरीका\n",
       "677  712  Rakshashi  पुञ्जिकस्थला\n",
       "\n",
       "[678 rows x 3 columns]"
      ]
     },
     "execution_count": 429,
     "metadata": {},
     "output_type": "execute_result"
    }
   ],
   "source": [
    "nodes_df[':LABEL'] = nodes_df.apply(lambda x: x[':LABEL'].split('/')[0].capitalize().replace(' ','_'), axis=1)\n",
    "nodes_df"
   ]
  },
  {
   "cell_type": "code",
   "execution_count": 430,
   "id": "cb275dde-9134-4cc8-8760-af132e63f048",
   "metadata": {
    "scrolled": true
   },
   "outputs": [
    {
     "data": {
      "text/html": [
       "<div>\n",
       "<style scoped>\n",
       "    .dataframe tbody tr th:only-of-type {\n",
       "        vertical-align: middle;\n",
       "    }\n",
       "\n",
       "    .dataframe tbody tr th {\n",
       "        vertical-align: top;\n",
       "    }\n",
       "\n",
       "    .dataframe thead th {\n",
       "        text-align: right;\n",
       "    }\n",
       "</style>\n",
       "<table border=\"1\" class=\"dataframe\">\n",
       "  <thead>\n",
       "    <tr style=\"text-align: right;\">\n",
       "      <th></th>\n",
       "      <th>:START_ID</th>\n",
       "      <th>:TYPE</th>\n",
       "      <th>:END_ID</th>\n",
       "    </tr>\n",
       "  </thead>\n",
       "  <tbody>\n",
       "    <tr>\n",
       "      <th>0</th>\n",
       "      <td>1</td>\n",
       "      <td>IS_CAPITAL_OF</td>\n",
       "      <td>2</td>\n",
       "    </tr>\n",
       "    <tr>\n",
       "      <th>1</th>\n",
       "      <td>1</td>\n",
       "      <td>IS_SITUTATED_ON_THE_BANKS_OF</td>\n",
       "      <td>3</td>\n",
       "    </tr>\n",
       "    <tr>\n",
       "      <th>2</th>\n",
       "      <td>64</td>\n",
       "      <td>IS_FATHER_OF</td>\n",
       "      <td>21</td>\n",
       "    </tr>\n",
       "    <tr>\n",
       "      <th>3</th>\n",
       "      <td>21</td>\n",
       "      <td>IS_FATHER_OF</td>\n",
       "      <td>22</td>\n",
       "    </tr>\n",
       "    <tr>\n",
       "      <th>4</th>\n",
       "      <td>22</td>\n",
       "      <td>IS_FATHER_OF</td>\n",
       "      <td>24</td>\n",
       "    </tr>\n",
       "    <tr>\n",
       "      <th>...</th>\n",
       "      <td>...</td>\n",
       "      <td>...</td>\n",
       "      <td>...</td>\n",
       "    </tr>\n",
       "    <tr>\n",
       "      <th>712</th>\n",
       "      <td>707</td>\n",
       "      <td>IS_A_DOOR_KIPPER_OF</td>\n",
       "      <td>260</td>\n",
       "    </tr>\n",
       "    <tr>\n",
       "      <th>713</th>\n",
       "      <td>708</td>\n",
       "      <td>IS_SITUATED_NEAR</td>\n",
       "      <td>290</td>\n",
       "    </tr>\n",
       "    <tr>\n",
       "      <th>714</th>\n",
       "      <td>205</td>\n",
       "      <td>HAS_INVOKED_THE_PROTECTION_OF</td>\n",
       "      <td>709</td>\n",
       "    </tr>\n",
       "    <tr>\n",
       "      <th>715</th>\n",
       "      <td>128</td>\n",
       "      <td>WAS_ACCOMPANIED_BY</td>\n",
       "      <td>710</td>\n",
       "    </tr>\n",
       "    <tr>\n",
       "      <th>716</th>\n",
       "      <td>552</td>\n",
       "      <td>IS_DESIRED_BY</td>\n",
       "      <td>711</td>\n",
       "    </tr>\n",
       "  </tbody>\n",
       "</table>\n",
       "<p>717 rows × 3 columns</p>\n",
       "</div>"
      ],
      "text/plain": [
       "     :START_ID                          :TYPE  :END_ID\n",
       "0            1                  IS_CAPITAL_OF        2\n",
       "1            1   IS_SITUTATED_ON_THE_BANKS_OF        3\n",
       "2           64                   IS_FATHER_OF       21\n",
       "3           21                   IS_FATHER_OF       22\n",
       "4           22                   IS_FATHER_OF       24\n",
       "..         ...                            ...      ...\n",
       "712        707            IS_A_DOOR_KIPPER_OF      260\n",
       "713        708               IS_SITUATED_NEAR      290\n",
       "714        205  HAS_INVOKED_THE_PROTECTION_OF      709\n",
       "715        128             WAS_ACCOMPANIED_BY      710\n",
       "716        552                  IS_DESIRED_BY      711\n",
       "\n",
       "[717 rows x 3 columns]"
      ]
     },
     "execution_count": 430,
     "metadata": {},
     "output_type": "execute_result"
    }
   ],
   "source": [
    "relationships_df[':TYPE'] = relationships_df.apply(lambda x: '_'.join(x[':TYPE'].replace('-', ' ').upper().split()), axis=1)\n",
    "relationships_df"
   ]
  },
  {
   "cell_type": "code",
   "execution_count": 431,
   "id": "a713ed41-a559-401c-afc7-8fce5bc54c45",
   "metadata": {},
   "outputs": [],
   "source": [
    "nodes_df.to_csv('data/kg/nodes_processed.csv',index=False)\n",
    "relationships_df.to_csv('data/kg/relationships_processed.csv',index=False)"
   ]
  },
  {
   "cell_type": "markdown",
   "id": "ab141f7d-b2d9-4770-887c-b32c111427ba",
   "metadata": {},
   "source": [
    "### Load KG"
   ]
  },
  {
   "cell_type": "code",
   "execution_count": 134,
   "id": "dfa586d9-6795-4a4e-84d2-1b496b65a44f",
   "metadata": {
    "scrolled": true
   },
   "outputs": [
    {
     "data": {
      "text/plain": [
       "'Node properties:\\nTOWN {lemma: STRING}\\nKINGDOM {lemma: STRING}\\nRIVER {lemma: STRING}\\nHUMAN {lemma: STRING}\\nVILLAGE {lemma: STRING}\\nRAKSHASA {lemma: STRING}\\nDEVA {lemma: STRING}\\nRISHI {lemma: STRING}\\nEPITHET {lemma: STRING}\\nKULA {lemma: STRING}\\nMOUNTAIN {lemma: STRING}\\nGANA {lemma: STRING}\\n\\u200d\\u200dQUALITY {lemma: STRING}\\nUNIT {lemma: STRING}\\nROAD {lemma: STRING}\\nPROFESSIONAL {lemma: STRING}\\nWEAPON {lemma: STRING}\\nGOD {lemma: STRING}\\nMONKEY {lemma: STRING}\\nKING {lemma: STRING}\\nPRINCE {lemma: STRING}\\nCAPITAL {lemma: STRING}\\nCITY {lemma: STRING}\\nRAKSHASHI {lemma: STRING}\\nPRAJAPATI {lemma: STRING}\\nHILL {lemma: STRING}\\nELEPHANT {lemma: STRING}\\nSHAPE {lemma: STRING}\\nFOREST {lemma: STRING}\\nPART OF A SEA {lemma: STRING}\\nAPSARA {lemma: STRING}\\nGODDESS {lemma: STRING}\\nDANAVA {lemma: STRING}\\nCOUNTRY {lemma: STRING}\\nMESSENGER {lemma: STRING}\\nMAHARSHI {lemma: STRING}\\nTREE {lemma: STRING}\\nINSECT {lemma: STRING}\\nANIMAL {lemma: STRING}\\nDEVINE BIRD {lemma: STRING}\\nDIRECTION {lemma: STRING}\\nADITYA {lemma: STRING}\\nGARDEN {lemma: STRING}\\nRESIDENTIAL PLACE {lemma: STRING}\\nLOKA {lemma: STRING}\\nTRIBE {lemma: STRING}\\nNYMPH {lemma: STRING}\\nSEA {lemma: STRING}\\nILAND {lemma: STRING}\\nLINAGE {lemma: STRING}\\nHORSE {lemma: STRING}\\nGANDHARVA {lemma: STRING}\\nCAVE {lemma: STRING}\\nRIKSHA {lemma: STRING}\\nRANGE OF HILLS {lemma: STRING}\\nCOW {lemma: STRING}\\nPLACE {lemma: STRING}\\nINCARNATION {lemma: STRING}\\nCLASS OF DAITYAS {lemma: STRING}\\nYAJNA {lemma: STRING}\\nPRIEST {lemma: STRING}\\nLAND {lemma: STRING}\\nBRAHMANA {lemma: STRING}\\nTAPOVAN {lemma: STRING}\\nDEVI {lemma: STRING}\\nTAPASYA {lemma: STRING}\\nMANI {lemma: STRING}\\nDEVINE JUICE {lemma: STRING}\\nGANDHARVI {lemma: STRING}\\nDAITYA {lemma: STRING}\\nLAKE {lemma: STRING}\\nDISTRICT {lemma: STRING}\\nDEITY {lemma: STRING}\\nRANK {lemma: STRING}\\nDEMI-GOD {lemma: STRING}\\nPIER {lemma: STRING}\\nSOCIETY CLASS {lemma: STRING}\\nDEVINE PLACE {lemma: STRING}\\nSNAKE {lemma: STRING}\\nBOW {lemma: STRING}\\nCONTINENT {lemma: STRING}\\nDEVINE FIRE {lemma: STRING}\\nRAJARSHI {lemma: STRING}\\nVIMANA {lemma: STRING}\\nBUNCH OF CITIES {lemma: STRING}\\nCLUSTER OF TOWNS {lemma: STRING}\\nRACE {lemma: STRING}\\nASURA {lemma: STRING}\\nTYPE OF GOD {lemma: STRING}\\nDOCTOR {lemma: STRING}\\nBIRD {lemma: STRING}\\nCLASS OF KIRATA {lemma: STRING}\\nTEMPLE {lemma: STRING}\\nHOLY PLACE {lemma: STRING}\\nNIDHI {lemma: STRING}\\nREGIONAL ELEPHANT {lemma: STRING}\\nMILITARY {lemma: STRING}\\nDEVINE COW {lemma: STRING}\\nDEMON {lemma: STRING}\\nRelationship properties:\\n\\nThe relationships:\\n(:TOWN)-[:IS_CAPITAL_OF]->(:KINGDOM)\\n(:TOWN)-[:IS_SITUTATED_ON_THE_BANKS_OF]->(:RIVER)\\n(:TOWN)-[:HAS_A_SHAPE_OF]->(:SHAPE)\\n(:TOWN)-[:HAS_LENGTH]->(:UNIT)\\n(:TOWN)-[:HAS_BREADTH]->(:UNIT)\\n(:TOWN)-[:IS_ESTABLISHED_BY]->(:HUMAN)\\n(:TOWN)-[:HAD]->(:WEAPON)\\n(:TOWN)-[:HAD]->(:ROAD)\\n(:TOWN)-[:IS_DEVELOPED_BY]->(:HUMAN)\\n(:TOWN)-[:IS_REACHED_BY]->(:PROFESSIONAL)\\n(:TOWN)-[:IS_PRAISED_BY]->(:PROFESSIONAL)\\n(:TOWN)-[:IS_THE_TOWN_OF]->(:GOD)\\n(:TOWN)-[:IS_SITUATED_IN]->(:DIRECTION)\\n(:TOWN)-[:IS_SITUATED_IN]->(:CITY)\\n(:TOWN)-[:IS_SITUATED_IN]->(:HILL)\\n(:TOWN)-[:IS_VISITED_BY]->(:HUMAN)\\n(:TOWN)-[:IS_SITUATED_NEAR]->(:COUNTRY)\\n(:TOWN)-[:IS_FOUNDED_BY]->(:HUMAN)\\n(:TOWN)-[:IS_ANOTHER_NAME_OF]->(:TOWN)\\n(:TOWN)-[:WAS_SITUATED_TO_THE_EAST_OF]->(:TOWN)\\n(:KINGDOM)-[:IS_SITUTATED_ON_THE_BANKS_OF]->(:RIVER)\\n(:KINGDOM)-[:IS_RULED_BY]->(:KING)\\n(:RIVER)-[:IS_DAUGHTER_OF]->(:MOUNTAIN)\\n(:RIVER)-[:IS_CROSSED_BY]->(:HUMAN)\\n(:RIVER)-[:IS_CROSSED_BY]->(:MONKEY)\\n(:RIVER)-[:IS_WIFE_OF]->(:RISHI)\\n(:RIVER)-[:IS_SISTER_OF]->(:RISHI)\\n(:RIVER)-[:IS_ALIAS_OF]->(:HUMAN)\\n(:RIVER)-[:IS_VISITED_BY]->(:MONKEY)\\n(:RIVER)-[:FLOWED_THROUGH]->(:COUNTRY)\\n(:RIVER)-[:IS_SITUATED_NEAR]->(:RIVER)\\n(:RIVER)-[:FLOWED_BY_THE]->(:FOREST)\\n(:RIVER)-[:SITUATED_TO_THE_SOUTH_OF]->(:COUNTRY)\\n(:RIVER)-[:EMERGED_FROM]->(:LAKE)\\n(:HUMAN)-[:IS_FATHER_OF]->(:HUMAN)\\n(:HUMAN)-[:IS_FATHER_OF]->(:RISHI)\\n(:HUMAN)-[:WENT_TO]->(:TOWN)\\n(:HUMAN)-[:DID_INQUIRE_ABOUT]->(:HUMAN)\\n(:HUMAN)-[:DID_INQUIRE_TO]->(:RIVER)\\n(:HUMAN)-[:RETURNED_TO]->(:TOWN)\\n(:HUMAN)-[:SET_UP_HIS_ABODE_AT]->(:HILL)\\n(:HUMAN)-[:SET_UP_HIS_ABODE_AT]->(:TOWN)\\n(:HUMAN)-[:BURNT_THE_CARCASS_OF]->(:DEVINE BIRD)\\n(:HUMAN)-[:IS_VISITED_BY]->(:HUMAN)\\n(:HUMAN)-[:VISITED_THE_TEMPLE_OF]->(:GOD)\\n(:HUMAN)-[:IS_DIRECTED_TO]->(:TRIBE)\\n(:HUMAN)-[:IS_DIRECTED_BY]->(:RAKSHASA)\\n(:HUMAN)-[:WAS_ATTACKED_BY]->(:RAKSHASA)\\n(:HUMAN)-[:FORMED_AN_ACQUAINTANCE_WITH]->(:MONKEY)\\n(:HUMAN)-[:FORMED_AN_ACQUAINTANCE_AT_THE_BANK_OF]->(:LAKE)\\n(:HUMAN)-[:IS_KNOWN_AS]->(:EPITHET)\\n(:HUMAN)-[:IS_KNOWN_AS]->(:HUMAN)\\n(:HUMAN)-[:IS_SON_OF]->(:MAHARSHI)\\n(:HUMAN)-[:IS_SON_OF]->(:HUMAN)\\n(:HUMAN)-[:IS_SON_OF]->(:NYMPH)\\n(:HUMAN)-[:IS_SON_OF]->(:KING)\\n(:HUMAN)-[:IS_SON_OF]->(:RISHI)\\n(:HUMAN)-[:IS_SON_OF]->(:RAKSHASA)\\n(:HUMAN)-[:IS_GRANDSON_OF]->(:RISHI)\\n(:HUMAN)-[:IS_PASSED_BY]->(:VILLAGE)\\n(:HUMAN)-[:DID_BREAK_HIS_JOURNEY_AT]->(:VILLAGE)\\n(:HUMAN)-[:ENTERTAINED_BY]->(:GANDHARVA)\\n(:HUMAN)-[:ARRIVED_TO]->(:VILLAGE)\\n(:HUMAN)-[:IS_A_CONUSELLOR_OF]->(:HUMAN)\\n(:HUMAN)-[:IS_BROTHER_OF]->(:HUMAN)\\n(:HUMAN)-[:IS_ENEMY_OF]->(:KINGDOM)\\n(:HUMAN)-[:IS_POISONED_BY]->(:HUMAN)\\n(:HUMAN)-[:PRACTICED_AUSTERITIES_AT]->(:TOWN)\\n(:HUMAN)-[:BECAME]->(:GANA)\\n(:HUMAN)-[:BECAME]->(:SOCIETY CLASS)\\n(:HUMAN)-[:IS_REAL_NAME_OF]->(:EPITHET)\\n(:HUMAN)-[:SPENT_A_NIGHT_NEAR]->(:RIVER)\\n(:HUMAN)-[:DEPUTED_ON_THE_RESPONSIBILITY_OF]->(:RISHI)\\n(:HUMAN)-[:DEPUTED_TO]->(:LOKA)\\n(:HUMAN)-[:MET_AT]->(:MOUNTAIN)\\n(:HUMAN)-[:IS_COWIFE_OF]->(:HUMAN)\\n(:HUMAN)-[:MET_WITH]->(:HUMAN)\\n(:HUMAN)-[:IS_WIFE_OF]->(:HUMAN)\\n(:HUMAN)-[:IS_WIFE_OF]->(:RISHI)\\n(:HUMAN)-[:IS_WIFE_OF]->(:KING)\\n(:HUMAN)-[:IS_WIFE_OF]->(:MAHARSHI)\\n(:HUMAN)-[:IS_WIFE_OF]->(:RAKSHASA)\\n(:HUMAN)-[:IS_WIFE_OF]->(:MOUNTAIN)\\n(:HUMAN)-[:IS_MOTHER_OF]->(:HUMAN)\\n(:HUMAN)-[:IS_MOTHER_OF]->(:ELEPHANT)\\n(:HUMAN)-[:IS_MOTHER_OF]->(:BIRD)\\n(:HUMAN)-[:BELONGED_TO]->(:KULA)\\n(:HUMAN)-[:IS_THE_KING_OF]->(:CAPITAL)\\n(:HUMAN)-[:IS_THE_KING_OF]->(:COUNTRY)\\n(:HUMAN)-[:IS_THE_KING_OF]->(:TOWN)\\n(:HUMAN)-[:IS_DAUGHTER_OF]->(:RISHI)\\n(:HUMAN)-[:IS_DAUGHTER_OF]->(:HUMAN)\\n(:HUMAN)-[:IS_DAUGHTER_OF]->(:PRAJAPATI)\\n(:HUMAN)-[:IS_DAUGHTER_OF]->(:MOUNTAIN)\\n(:HUMAN)-[:IS_SISTER_OF]->(:DEVINE BIRD)\\n(:HUMAN)-[:IS_SISTER_OF]->(:RISHI)\\n(:HUMAN)-[:WAS_ASKED_TO_VISIT]->(:CLASS OF KIRATA)\\n(:HUMAN)-[:IS_ASKED_TO_GO_TO]->(:DISTRICT)\\n(:HUMAN)-[:IS_ASKED_TO_GO_TO]->(:HILL)\\n(:HUMAN)-[:IS_MINISTER_OF]->(:HUMAN)\\n(:HUMAN)-[:HAS_INVOKED_THE_PROTECTION_OF]->(:DEMON)\\n(:HUMAN)-[:HAS_INVOKED_THE_PROTECTION_OF]->(:DEVA)\\n(:HUMAN)-[:IS_A_MESSENGER_OF]->(:MAHARSHI)\\n(:HUMAN)-[:WAS_PLACED_AT]->(:VIMANA)\\n(:HUMAN)-[:IS_PLACED_BY]->(:RAKSHASHI)\\n(:HUMAN)-[:IS_FATHER_IN_LAW_OF]->(:EPITHET)\\n(:HUMAN)-[:IS_MATERNAL_UNCLE_OF]->(:HUMAN)\\n(:HUMAN)-[:WAS_EMANCIPATED_BY]->(:HUMAN)\\n(:HUMAN)-[:WAS_RAPED_BY_INDRA]->(:GOD)\\n(:HUMAN)-[:BORN_IN_THE_ROYAL_HOUSE_OF]->(:CITY)\\n(:HUMAN)-[:IS_A_PRIEST_TO]->(:HUMAN)\\n(:HUMAN)-[:A_COURTIER_OF]->(:HUMAN)\\n(:HUMAN)-[:BORN_BECAUSE_OF]->(:YAJNA)\\n(:HUMAN)-[:IS_MESSENGER_OF]->(:MAHARSHI)\\n(:HUMAN)-[:HAD_A_FIGHT_WITH]->(:RAKSHASA)\\n(:HUMAN)-[:WAS_CHARIOTEER_OF]->(:GOD)\\n(:HUMAN)-[:BORN_OF]->(:SEA)\\n(:HUMAN)-[:MADE_KING_OF]->(:DEVINE PLACE)\\n(:HUMAN)-[:IS_A_CHARIOTEER_OF]->(:HUMAN)\\n(:HUMAN)-[:IS_COUNSELLOR_OF]->(:HUMAN)\\n(:HUMAN)-[:IS_TENDED_BY]->(:GANDHARVI)\\n(:HUMAN)-[:A_MESSENGER_SENT_BY]->(:MAHARSHI)\\n(:HUMAN)-[:A_MESSENGER_SENT_BY]->(:RISHI)\\n(:HUMAN)-[:IS_A_PRIEST_OF]->(:HUMAN)\\n(:HUMAN)-[:IS_CONSECRATED_BY]->(:HUMAN)\\n(:HUMAN)-[:IS_YOUNGEST_SON_OF]->(:LINAGE)\\n(:HUMAN)-[:IS_A_COURTIER_OF]->(:HUMAN)\\n(:HUMAN)-[:IS_CURSED_BY]->(:RISHI)\\n(:HUMAN)-[:IS_ANCESTOR_OF]->(:HUMAN)\\n(:HUMAN)-[:WAS_VISITED_AT]->(:HILL)\\n(:HUMAN)-[:WENT_TO_RECEIVE]->(:HUMAN)\\n(:HUMAN)-[:REPLIED_TO]->(:HUMAN)\\n(:HUMAN)-[:WAS_SENT_TO]->(:COUNTRY)\\n(:HUMAN)-[:MADE_ADVANCES_TO]->(:NYMPH)\\n(:VILLAGE)-[:IS_SITUTATED_ON_THE_BANKS_OF]->(:RIVER)\\n(:VILLAGE)-[:IS_VISITED_BY]->(:MESSENGER)\\n(:VILLAGE)-[:IS_SITUATED_NEAR]->(:RIVER)\\n(:RAKSHASA)-[:IS_KILLED_BY]->(:MONKEY)\\n(:RAKSHASA)-[:IS_KILLED_BY]->(:GOD)\\n(:RAKSHASA)-[:IS_KILLED_BY]->(:RISHI)\\n(:RAKSHASA)-[:IS_KILLED_BY]->(:HUMAN)\\n(:RAKSHASA)-[:IS_KILLED_BY]->(:DEVA)\\n(:RAKSHASA)-[:IS_A_GENERAL_OF]->(:RAKSHASA)\\n(:RAKSHASA)-[:FOUGHT_WITH]->(:MONKEY)\\n(:RAKSHASA)-[:WAS_ACCOMPANIED_BY]->(:RAKSHASA)\\n(:RAKSHASA)-[:WAS_ACCOMPANIED_BY]->(:NIDHI)\\n(:RAKSHASA)-[:PRACTICED_AUSTERITIES_AT]->(:TOWN)\\n(:RAKSHASA)-[:IS_THE_DESTROYER_OF]->(:FOREST)\\n(:RAKSHASA)-[:LAUGHED_AT]->(:GOD)\\n(:RAKSHASA)-[:ASKED_THE_HELP_OF]->(:RAKSHASA)\\n(:RAKSHASA)-[:IS_CHALLENGED_BY]->(:MONKEY)\\n(:RAKSHASA)-[:WAS_CURSED_BY]->(:GOD)\\n(:RAKSHASA)-[:IS_MINISTER_OF]->(:RAKSHASA)\\n(:RAKSHASA)-[:IS_NEPHEW_OF]->(:RAKSHASA)\\n(:RAKSHASA)-[:IS_SON_OF]->(:RAKSHASA)\\n(:RAKSHASA)-[:IS_SON_OF]->(:RAKSHASHI)\\n(:RAKSHASA)-[:IS_SON_OF]->(:DEVI)\\n(:RAKSHASA)-[:IS_SON_OF]->(:MAHARSHI)\\n(:RAKSHASA)-[:IS_A_FOLLOWER_OF]->(:RAKSHASA)\\n(:RAKSHASA)-[:IS_FATHER_OF]->(:RAKSHASA)\\n(:RAKSHASA)-[:IS_FATHER_OF]->(:RAKSHASHI)\\n(:RAKSHASA)-[:IS_MATERNAL_UNCLE_OF]->(:RAKSHASA)\\n(:RAKSHASA)-[:IS_COUNSELLOR_OF]->(:RAKSHASA)\\n(:RAKSHASA)-[:WAS_READY_TO_KILL]->(:HUMAN)\\n(:RAKSHASA)-[:LIVED_AT]->(:FOREST)\\n(:RAKSHASA)-[:LIVED_AT]->(:PLACE)\\n(:RAKSHASA)-[:DID_SACRIFICES_AT]->(:HOLY PLACE)\\n(:RAKSHASA)-[:PLACE_WAS_VISITED_BY]->(:MONKEY)\\n(:RAKSHASA)-[:IS_BROTHER_OF]->(:RAKSHASHI)\\n(:RAKSHASA)-[:IS_BROTHER_OF]->(:RAKSHASA)\\n(:RAKSHASA)-[:IS_OFFICER_OF]->(:RAKSHASA)\\n(:RAKSHASA)-[:IS_HUSBAND_OF]->(:RAKSHASHI)\\n(:RAKSHASA)-[:WAS_CARRIED_BY]->(:NIDHI)\\n(:RAKSHASA)-[:WAS_CARRIED_TO]->(:FOREST)\\n(:RAKSHASA)-[:IS_OWNER_OF]->(:GARDEN)\\n(:RAKSHASA)-[:DWELT_AT]->(:MOUNTAIN)\\n(:RAKSHASA)-[:WAS_TAKEN_TO]->(:FOREST)\\n(:RAKSHASA)-[:WAS_KILLED_AT]->(:FOREST)\\n(:RAKSHASA)-[:WAS_KILLED_AT]->(:HILL)\\n(:RAKSHASA)-[:IS_ANOTHER_NAME_OF]->(:RAKSHASA)\\n(:RAKSHASA)-[:FOUGHT_AGAINST]->(:HUMAN)\\n(:RAKSHASA)-[:FOUND_BY]->(:MONKEY)\\n(:RAKSHASA)-[:APPOINTED_BY]->(:RAKSHASA)\\n(:RAKSHASA)-[:DWELT_IN]->(:TOWN)\\n(:DEVA)-[:IS_FATHER_OF]->(:MONKEY)\\n(:DEVA)-[:IS_FATHER_OF]->(:HUMAN)\\n(:DEVA)-[:ARE_SONS_OF]->(:GODDESS)\\n(:DEVA)-[:ARE_SONS_OF]->(:RISHI)\\n(:DEVA)-[:IS_ANOTHER_NAME_OF]->(:DEVA)\\n(:DEVA)-[:REDUCED_TO_ASHES_BY]->(:DEVA)\\n(:DEVA)-[:IS_THE_DESTROYER_OF]->(:BUNCH OF CITIES)\\n(:DEVA)-[:IS_SON_OF]->(:HUMAN)\\n(:DEVA)-[:WAS_WORSHIPPED_AT]->(:TEMPLE)\\n(:DEVA)-[:IS_HONOURED_BY]->(:MAHARSHI)\\n(:RISHI)-[:DWELT_IN]->(:FOREST)\\n(:RISHI)-[:DWELT_IN]->(:HILL)\\n(:RISHI)-[:IS_THE_DIRECTOR_TO_POSSES_DIVINE_WEAPONS]->(:HUMAN)\\n(:RISHI)-[:LIVED_AT_FOUR_YOJANA_SOUTH_OF]->(:RISHI)\\n(:RISHI)-[:HIS_ASHRAMA_WAS_VISITED_BY]->(:HUMAN)\\n(:RISHI)-[:IS_HUSBAND_OF]->(:HUMAN)\\n(:RISHI)-[:CAME_TO_GREET]->(:HUMAN)\\n(:RISHI)-[:IS_WELCOMED_BY]->(:GOD)\\n(:RISHI)-[:IS_KNOWN_AS]->(:EPITHET)\\n(:RISHI)-[:DWELT_AT]->(:HILL)\\n(:RISHI)-[:IS_THE_PRIEST_OF]->(:HUMAN)\\n(:RISHI)-[:IS_FATHER_OF]->(:RISHI)\\n(:RISHI)-[:IS_KILLED_BY]->(:KING)\\n(:RISHI)-[:PRACTICED_AUSTERITIES_AT]->(:TOWN)\\n(:RISHI)-[:CAME_TO_VISIT]->(:RISHI)\\n(:RISHI)-[:CAME_TO_VISIT]->(:HUMAN)\\n(:RISHI)-[:IS_SON_OF]->(:PRAJAPATI)\\n(:RISHI)-[:IS_SON_OF]->(:RISHI)\\n(:RISHI)-[:HAS_PROMISED_TO]->(:GOD)\\n(:RISHI)-[:CONTESTED_WITH]->(:HUMAN)\\n(:RISHI)-[:SACRIFICIAL_AREA_WAS_OVERFLOODED_BY]->(:RIVER)\\n(:RISHI)-[:IS_DESIRED_BY]->(:NYMPH)\\n(:RISHI)-[:LIVED_AT]->(:RESIDENTIAL PLACE)\\n(:RISHI)-[:REQUISITIONED_THE_SERVICES_OF]->(:GANDHARVA)\\n(:RISHI)-[:WAS_SALUTED_BY]->(:HUMAN)\\n(:RISHI)-[:REPLIED_TO]->(:HUMAN)\\n(:RISHI)-[:REPLIED_TO]->(:RAKSHASA)\\n(:RISHI)-[:DESCRIBED_THE_HISTORY_OF]->(:LAKE)\\n(:EPITHET)-[:IS_FATHER_OF]->(:HUMAN)\\n(:MOUNTAIN)-[:IS_VISITED_BY]->(:MONKEY)\\n(:MOUNTAIN)-[:IS_INVADED_BY]->(:RAKSHASA)\\n(:MOUNTAIN)-[:IS_SITUATED_NEAR]->(:LAKE)\\n(:MOUNTAIN)-[:IS_SITUATED_NEAR]->(:RESIDENTIAL PLACE)\\n(:GANA)-[:ARE_INVOKED_BY]->(:HUMAN)\\n(:GANA)-[:ARE_INVOKED_TO]->(:YAJNA)\\n(:\\u200d\\u200dQUALITY)-[:IS_QUALITY_OF]->(:GANA)\\n(:\\u200d\\u200dQUALITY)-[:IS_QUALITY_OF]->(:HUMAN)\\n(:\\u200d\\u200dQUALITY)-[:IS_QUALITY_OF]->(:KINGDOM)\\n(:\\u200d\\u200dQUALITY)-[:IS_QUALITY_OF]->(:UNIT)\\n(:\\u200d\\u200dQUALITY)-[:IS_QUALITY_OF]->(:TOWN)\\n(:\\u200d\\u200dQUALITY)-[:IS_QUALITY_OF]->(:ROAD)\\n(:WEAPON)-[:HAD]->(:UNIT)\\n(:WEAPON)-[:ARE_PRODUCED_BY]->(:PRAJAPATI)\\n(:GOD)-[:WAS_ACCOMPANIED_BY]->(:DEVI)\\n(:GOD)-[:IS_SON_OF]->(:GODDESS)\\n(:GOD)-[:IS_SON_OF]->(:GOD)\\n(:GOD)-[:WAS_FED_BY]->(:DEVI)\\n(:GOD)-[:IS_FATHER_OF]->(:MONKEY)\\n(:MONKEY)-[:IS_SON_OF]->(:DEVA)\\n(:MONKEY)-[:IS_SON_OF]->(:MAHARSHI)\\n(:MONKEY)-[:IS_SON_OF]->(:MONKEY)\\n(:MONKEY)-[:IS_SON_OF]->(:GOD)\\n(:MONKEY)-[:IS_SON_OF]->(:RAKSHASA)\\n(:MONKEY)-[:IS_SON_OF]->(:TYPE OF GOD)\\n(:MONKEY)-[:IS_SON_OF]->(:EPITHET)\\n(:MONKEY)-[:IS_HUSBAND_OF]->(:MONKEY)\\n(:MONKEY)-[:IS_HUSBAND_OF]->(:APSARA)\\n(:MONKEY)-[:IS_WIFE_OF]->(:MONKEY)\\n(:MONKEY)-[:IS_SENT_TO]->(:COUNTRY)\\n(:MONKEY)-[:IS_SENT_TO]->(:TOWN)\\n(:MONKEY)-[:IS_SENT_TO]->(:HILL)\\n(:MONKEY)-[:IS_SENT_TO]->(:DIRECTION)\\n(:MONKEY)-[:WAS_SENT_BY]->(:MONKEY)\\n(:MONKEY)-[:WAS_SENT_TO]->(:COUNTRY)\\n(:MONKEY)-[:WAS_SENT_TO]->(:HILL)\\n(:MONKEY)-[:WAS_SENT_TO]->(:TOWN)\\n(:MONKEY)-[:WAS_SENT_TO]->(:CITY)\\n(:MONKEY)-[:IS_SENT_BY]->(:MONKEY)\\n(:MONKEY)-[:IS_ASKED_TO_GO_TO]->(:RIVER)\\n(:MONKEY)-[:IS_ASKED_TO_GO_TO]->(:CLUSTER OF TOWNS)\\n(:MONKEY)-[:IS_ASKED_TO_GO_TO]->(:TOWN)\\n(:MONKEY)-[:IS_ASKED_TO_GO_TO]->(:HILL)\\n(:MONKEY)-[:IS_ASKED_TO_GO_TO]->(:COUNTRY)\\n(:MONKEY)-[:HAS_SEATED_ON]->(:HILL)\\n(:MONKEY)-[:VISITED_TO]->(:RAKSHASHI)\\n(:MONKEY)-[:VISIT_WAS_FORESEEN_BY]->(:MAHARSHI)\\n(:MONKEY)-[:IS_ATTACKED_BY]->(:RAKSHASA)\\n(:MONKEY)-[:SET_FIRE_TO_THE_HOUSE_OF]->(:RAKSHASA)\\n(:MONKEY)-[:BURNT_THE_HOUSE_OF]->(:RAKSHASA)\\n(:MONKEY)-[:IS_ACCOMPANIED_BY]->(:MONKEY)\\n(:MONKEY)-[:SPENT_A_LIFE_OF_EXILE_AT]->(:HILL)\\n(:MONKEY)-[:WAS_ACCOMPANIED_TO]->(:TOWN)\\n(:MONKEY)-[:WAS_ACCOMPANIED_BY]->(:MONKEY)\\n(:MONKEY)-[:IS_FATHER_OF]->(:MONKEY)\\n(:MONKEY)-[:LIVED_AT]->(:HILL)\\n(:MONKEY)-[:LIVED_AT]->(:MOUNTAIN)\\n(:MONKEY)-[:LIVED_AT]->(:TOWN)\\n(:MONKEY)-[:IS_A_VANARA_SOLDIER_OF]->(:HUMAN)\\n(:MONKEY)-[:IS_HONOURED_BY]->(:HUMAN)\\n(:MONKEY)-[:IS_KILLED_BY]->(:RAKSHASA)\\n(:MONKEY)-[:WENT_IN_THE_SEARCH_OF]->(:RAKSHASA)\\n(:MONKEY)-[:WENT_IN_THE_SEARCH_OF]->(:HUMAN)\\n(:MONKEY)-[:IS_ASKED_BY]->(:RIKSHA)\\n(:MONKEY)-[:IS_ASKED_BY]->(:MONKEY)\\n(:MONKEY)-[:WAS_ASKED_TO_VISIT]->(:RANGE OF HILLS)\\n(:MONKEY)-[:HAS_LIVED_WITH]->(:RAKSHASA)\\n(:MONKEY)-[:PARTICIPATED_THE_CORONATION_CEREMONY_OF]->(:MONKEY)\\n(:MONKEY)-[:IS_APPOINTED_AS]->(:RANK)\\n(:MONKEY)-[:CAME_TO_VISIT]->(:MONKEY)\\n(:MONKEY)-[:APPOINTED_BY]->(:HUMAN)\\n(:MONKEY)-[:FOUGHT_AGAINST]->(:RAKSHASA)\\n(:MONKEY)-[:DID_MARCH_TO]->(:COUNTRY)\\n(:MONKEY)-[:JOINED_THE_FORCE_OF]->(:HUMAN)\\n(:MONKEY)-[:WAS_CREATED_TO_HELP]->(:HUMAN)\\n(:MONKEY)-[:ARE_PRODUCED_TO_HELP]->(:HUMAN)\\n(:MONKEY)-[:ARE_PRODUCED_BY]->(:DEVINE BIRD)\\n(:MONKEY)-[:IS_MATERNAL_UNCLE_OF]->(:MONKEY)\\n(:MONKEY)-[:HAS_RESPONDED_TO_THE_CALL_OF]->(:MONKEY)\\n(:MONKEY)-[:DWELT_AT]->(:HILL)\\n(:KING)-[:IS_FATHER_OF]->(:HUMAN)\\n(:KING)-[:IS_KILLED_BY]->(:DEVA)\\n(:KING)-[:ANOTHER_NAME_OF]->(:KING)\\n(:KING)-[:IS_REFERRED_BY]->(:HUMAN)\\n(:KING)-[:IS_THE_KING_OF]->(:KINGDOM)\\n(:KING)-[:IS_THE_KING_OF]->(:COUNTRY)\\n(:KING)-[:IS_SON_OF]->(:PRAJAPATI)\\n(:KING)-[:IS_A_KING_OF]->(:TOWN)\\n(:KING)-[:ADMITTED_THE_SUPREMACY_OF]->(:RAKSHASA)\\n(:KING)-[:ACCEPTED_THE_SUBMISSION_OF]->(:RAKSHASA)\\n(:KING)-[:IS_CURSED_BY]->(:RISHI)\\n(:KING)-[:IS_CURSED_BY]->(:DEVA)\\n(:PRINCE)-[:IS_SON_OF]->(:HUMAN)\\n(:CAPITAL)-[:IS_CAPITAL_OF]->(:KINGDOM)\\n(:CAPITAL)-[:IS_CAPITAL_OF]->(:HUMAN)\\n(:CAPITAL)-[:IS_BUILT_BY]->(:HUMAN)\\n(:CITY)-[:IS_OCCUPIED_BY]->(:RAKSHASA)\\n(:CITY)-[:IS_SITUATED_IN]->(:LOKA)\\n(:CITY)-[:IS_SITUATED_IN]->(:DIRECTION)\\n(:CITY)-[:IS_VISITED_BY]->(:MONKEY)\\n(:CITY)-[:IS_VISITED_BY]->(:HUMAN)\\n(:CITY)-[:IS_ABOUNDING_WITH]->(:TREE)\\n(:CITY)-[:HAS_RECEIVED_THE_HUNGER_OF]->(:GOD)\\n(:CITY)-[:DEVASTATED_BY]->(:RAKSHASHI)\\n(:CITY)-[:IS_SITUTATED_ON_THE_BANKS_OF]->(:RIVER)\\n(:CITY)-[:IS_LAND_OF]->(:DEITY)\\n(:CITY)-[:IS_CONQUERED_BY]->(:HUMAN)\\n(:RAKSHASHI)-[:IS_WIFE_OF]->(:RAKSHASA)\\n(:RAKSHASHI)-[:IS_DISFIGURED_BY]->(:HUMAN)\\n(:RAKSHASHI)-[:WAS_A_GUARD_OF]->(:HUMAN)\\n(:RAKSHASHI)-[:IS_DAUGHTER_OF]->(:RAKSHASA)\\n(:RAKSHASHI)-[:IS_DAUGHTER_OF]->(:GANDHARVI)\\n(:RAKSHASHI)-[:IS_DAUGHTER_OF]->(:RAKSHASHI)\\n(:RAKSHASHI)-[:IS_DEFEATED_BY]->(:RAKSHASA)\\n(:RAKSHASHI)-[:IS_MOTHER_OF]->(:RAKSHASA)\\n(:RAKSHASHI)-[:WAS_DISFIGURED_BY]->(:HUMAN)\\n(:RAKSHASHI)-[:IS_AN_INHABITANT_OF]->(:PLACE)\\n(:RAKSHASHI)-[:WAS_THE_GUARD_OF]->(:HUMAN)\\n(:RAKSHASHI)-[:WAS_REJECTED_BY]->(:RAKSHASA)\\n(:PRAJAPATI)-[:IS_FATHER_OF]->(:HUMAN)\\n(:PRAJAPATI)-[:IS_FATHER_OF]->(:KING)\\n(:PRAJAPATI)-[:IS_SON_OF]->(:DEVA)\\n(:HILL)-[:IS_SITUATED_TO_THE_NORTH_OF]->(:SEA)\\n(:HILL)-[:IS_TRAVERSED_BY]->(:HUMAN)\\n(:HILL)-[:IS_VISITED_BY]->(:MONKEY)\\n(:HILL)-[:IS_VISITED_BY]->(:HUMAN)\\n(:HILL)-[:IS_CLIMBED_BY]->(:MONKEY)\\n(:HILL)-[:IS_SITUATED_IN]->(:DIRECTION)\\n(:HILL)-[:IS_SITUATED_IN]->(:COUNTRY)\\n(:HILL)-[:IS_SITUATED_IN_THE_MIDST_OF]->(:SEA)\\n(:HILL)-[:IS_SITUATED_NEAR]->(:SEA)\\n(:HILL)-[:IS_SUBMERGED_IN_THE]->(:SEA)\\n(:FOREST)-[:IS_SITUATED_IN]->(:DIRECTION)\\n(:FOREST)-[:IS_VISITED_BY]->(:HUMAN)\\n(:FOREST)-[:IS_CROSSED_BY]->(:HUMAN)\\n(:APSARA)-[:IS_WIFE_OF]->(:MONKEY)\\n(:APSARA)-[:IS_WIFE_OF]->(:HUMAN)\\n(:GODDESS)-[:IS_WIFE_OF]->(:RISHI)\\n(:GODDESS)-[:IS_WIFE_OF]->(:GOD)\\n(:GODDESS)-[:IS_MOTHER_OF]->(:GOD)\\n(:GODDESS)-[:IS_DAUGHTER_OF]->(:MOUNTAIN)\\n(:DANAVA)-[:IS_KILLED_BY]->(:GOD)\\n(:DANAVA)-[:IS_KILLED_BY]->(:DEVA)\\n(:DANAVA)-[:IS_SON_OF]->(:DEVI)\\n(:DANAVA)-[:IS_SON_OF]->(:HUMAN)\\n(:COUNTRY)-[:IS_VISITED_BY]->(:MONKEY)\\n(:COUNTRY)-[:IS_FAMOUS_FOR]->(:ELEPHANT)\\n(:COUNTRY)-[:IS_SITUATED_IN]->(:DIRECTION)\\n(:COUNTRY)-[:IS_THE_KINGDOM_OF]->(:KING)\\n(:COUNTRY)-[:IS_CROSSED_BY]->(:MESSENGER)\\n(:MESSENGER)-[:IS_DISCIPLE_OF]->(:MAHARSHI)\\n(:MAHARSHI)-[:IS_SON_OF]->(:RISHI)\\n(:MAHARSHI)-[:IS_SON_OF]->(:MAHARSHI)\\n(:MAHARSHI)-[:LIVED_AT]->(:DIRECTION)\\n(:MAHARSHI)-[:IS_FATHER_OF]->(:HUMAN)\\n(:MAHARSHI)-[:CAME_TO_VISIT]->(:HUMAN)\\n(:MAHARSHI)-[:TOOK_A_BATH_IN]->(:RIVER)\\n(:MAHARSHI)-[:FORESEEN_THE_DEATH_OF]->(:DEVINE BIRD)\\n(:MAHARSHI)-[:A_SCION_OF_THE_FAMILY_OF]->(:MAHARSHI)\\n(:MAHARSHI)-[:PRACTICED_AUSTERITIES_AT]->(:MOUNTAIN)\\n(:ANIMAL)-[:JOINED_THE_FORCE_OF]->(:HUMAN)\\n(:ANIMAL)-[:LIVED_AT]->(:FOREST)\\n(:ANIMAL)-[:ARE_PRODUCED_TO_HELP]->(:HUMAN)\\n(:ANIMAL)-[:ARE_PRODUCED_BY]->(:TRIBE)\\n(:DEVINE BIRD)-[:IS_FATHER_OF]->(:DEVINE BIRD)\\n(:DEVINE BIRD)-[:IS_BROTHER_OF]->(:DEVINE BIRD)\\n(:DEVINE BIRD)-[:IS_SON_OF]->(:HUMAN)\\n(:DEVINE BIRD)-[:LIVED_AT]->(:FOREST)\\n(:DEVINE BIRD)-[:IS_KILLED_BY]->(:RAKSHASA)\\n(:DEVINE BIRD)-[:WENT_TO_SEE]->(:RISHI)\\n(:DEVINE BIRD)-[:IS_ANOTHER_NAME_OF]->(:DEVINE BIRD)\\n(:ADITYA)-[:PROTECTION_INVOKED_BY]->(:HUMAN)\\n(:ADITYA)-[:PROTECTION_INVOKED_FOR]->(:HUMAN)\\n(:ADITYA)-[:FOUGHT_AGAINST]->(:GANA)\\n(:GARDEN)-[:IS_CONFINEMENT_OF]->(:HUMAN)\\n(:GARDEN)-[:IS_SITUATED_IN]->(:FOREST)\\n(:GARDEN)-[:GARDEN_OF]->(:RAKSHASA)\\n(:RESIDENTIAL PLACE)-[:IS_BIRTHPLACE_OF]->(:PRINCE)\\n(:RESIDENTIAL PLACE)-[:BELONGED_TO]->(:MAHARSHI)\\n(:RESIDENTIAL PLACE)-[:BELONGED_TO]->(:MONKEY)\\n(:RESIDENTIAL PLACE)-[:IS_SEEN_BY]->(:HUMAN)\\n(:LOKA)-[:IS_RULED_BY]->(:DEVA)\\n(:LOKA)-[:IS_SITUATED_NEAR]->(:HILL)\\n(:TRIBE)-[:DWELT_AT]->(:COUNTRY)\\n(:TRIBE)-[:LIVED_AT]->(:DIRECTION)\\n(:TRIBE)-[:MET_AT]->(:CITY)\\n(:TRIBE)-[:MET_WITH]->(:HUMAN)\\n(:TRIBE)-[:DWELT_IN_THE_HERMITAGE_OF]->(:MAHARSHI)\\n(:NYMPH)-[:WAS_PRAYED_BY]->(:RISHI)\\n(:SEA)-[:IS_CHURNED_BY]->(:GANA)\\n(:SEA)-[:IS_SITUATED_AFTER]->(:SEA)\\n(:ILAND)-[:IS_VISITED_BY]->(:MONKEY)\\n(:ILAND)-[:IS_SITUATED_IN]->(:SEA)\\n(:LINAGE)-[:LIVED_AT_THE_BANK_OF]->(:RIVER)\\n(:LINAGE)-[:IS_THE_PROGENITOR_OF]->(:HUMAN)\\n(:HORSE)-[:IS_RIDING_ANIMAL_OF]->(:GOD)\\n(:GANDHARVA)-[:IS_MOTHER_OF]->(:HUMAN)\\n(:GANDHARVA)-[:DWELT_IN]->(:HILL)\\n(:GANDHARVA)-[:IS_KILLED_BY]->(:MONKEY)\\n(:GANDHARVA)-[:WAS_CURSED_BY]->(:RAKSHASA)\\n(:CAVE)-[:IS_SEEN_BY]->(:MONKEY)\\n(:RIKSHA)-[:IS_HONOURED_BY]->(:HUMAN)\\n(:RIKSHA)-[:DWELT_AT]->(:HILL)\\n(:RIKSHA)-[:IS_CREATED_BY]->(:DEVA)\\n(:RANGE OF HILLS)-[:IS_PROTECTED_BY]->(:GANDHARVA)\\n(:RANGE OF HILLS)-[:IS_SITUATED_NEAR]->(:SEA)\\n(:COW)-[:ARE_KILLED_BY]->(:RISHI)\\n(:PLACE)-[:IS_SITUATED_IN]->(:DEVINE PLACE)\\n(:INCARNATION)-[:IS_THE_DESTROYER_OF]->(:HUMAN)\\n(:CLASS OF DAITYAS)-[:FORMED_AN_ALLIANCE_WITH]->(:RAKSHASA)\\n(:CLASS OF DAITYAS)-[:FOUGHT_WITH]->(:RAKSHASA)\\n(:YAJNA)-[:IS_SACRIFICE_OF]->(:EPITHET)\\n(:PRIEST)-[:APPOINTED_BY]->(:HUMAN)\\n(:PRIEST)-[:ATTENDED_THE_DEMISE_COURT_OF]->(:HUMAN)\\n(:LAND)-[:IS_PASSED_BY]->(:MESSENGER)\\n(:BRAHMANA)-[:IS_FATHER_OF]->(:HUMAN)\\n(:BRAHMANA)-[:IS_FROM_THE_FAMILY_OF]->(:RISHI)\\n(:DEVI)-[:IS_DAUGHTER_OF]->(:PRAJAPATI)\\n(:DEVI)-[:IS_DAUGHTER_OF]->(:GANDHARVA)\\n(:DEVI)-[:IS_DAUGHTER_OF]->(:RISHI)\\n(:DEVI)-[:IS_DAUGHTER_OF]->(:DEVI)\\n(:DEVI)-[:IS_DAUGHTER_OF]->(:HUMAN)\\n(:DEVI)-[:IS_WIFE_OF]->(:RISHI)\\n(:DEVI)-[:IS_WIFE_OF]->(:RAKSHASA)\\n(:DEVI)-[:IS_MOTHER_OF]->(:RAKSHASA)\\n(:DEVI)-[:IS_MOTHER_OF]->(:ANIMAL)\\n(:DEVI)-[:IS_MOTHER_OF]->(:HUMAN)\\n(:DEVI)-[:ARE_DAUGHTERS_OF]->(:PRAJAPATI)\\n(:DEVI)-[:ARE_APPOINTED_BY]->(:GOD)\\n(:TAPASYA)-[:PRACTICED_AT]->(:TAPOVAN)\\n(:TAPASYA)-[:PRACTICED_BY]->(:DEVI)\\n(:DEVINE JUICE)-[:CAME_OUT_OF]->(:SEA)\\n(:DAITYA)-[:IS_KILLED_BY]->(:DEVA)\\n(:DAITYA)-[:IS_KILLED_BY]->(:GOD)\\n(:DAITYA)-[:IS_DAUGHTER_OF]->(:DEVI)\\n(:LAKE)-[:IS_SITUATED_IN]->(:FOREST)\\n(:LAKE)-[:IS_CROSSED_BY]->(:RAKSHASA)\\n(:DEITY)-[:ASSEMBLED_AT]->(:YAJNA)\\n(:DEITY)-[:COMPLAINED_AGAINST_THE_ACTS_OF]->(:RAKSHASA)\\n(:DEMI-GOD)-[:ARE_ATTENDANTS_OF]->(:RAKSHASA)\\n(:DEMI-GOD)-[:WAS_A_DOOR_KEEPER_OF]->(:GOD)\\n(:DEMI-GOD)-[:IS_A_DOOR_KIPPER_OF]->(:GOD)\\n(:SNAKE)-[:IS_DEFEATED_BY]->(:RAKSHASA)\\n(:BOW)-[:WAS_RECEIVED_FROM]->(:RISHI)\\n(:BOW)-[:WAS_RECEIVED_BY]->(:HUMAN)\\n(:CONTINENT)-[:IS_DUG_UPON_BY]->(:HUMAN)\\n(:CONTINENT)-[:LIES_TO_THE_NORTH_OF]->(:MOUNTAIN)\\n(:DEVINE FIRE)-[:WAS_PLACED_BY]->(:DEVA)\\n(:DEVINE FIRE)-[:CAME_OUT_FROM_THE_WRATH_OF]->(:RISHI)\\n(:DEVINE FIRE)-[:WAS_PLACED_AT]->(:SEA)\\n(:RAJARSHI)-[:LIVED_NEAR_THE]->(:MOUNTAIN)\\n(:RACE)-[:LIVED_AT]->(:HILL)\\n(:ASURA)-[:IS_FATHER_OF]->(:ASURA)\\n(:ASURA)-[:IS_KILLED_BY]->(:MONKEY)\\n(:ASURA)-[:IS_BROTHER_OF]->(:ASURA)\\n(:ASURA)-[:IS_HUSBAND_OF]->(:ASURA)\\n(:ASURA)-[:IS_SISTER_OF]->(:ASURA)\\n(:DOCTOR)-[:IS_CHURNED_OUT_FROM]->(:SEA)\\n(:BIRD)-[:IS_KILLED_BY]->(:TRIBE)\\n(:TEMPLE)-[:IS_VISITED_BY]->(:HUMAN)\\n(:HOLY PLACE)-[:IS_SITUATED_IN]->(:COUNTRY)\\n(:MILITARY)-[:ARE_CREATED_BY]->(:DEVINE COW)\\n(:DEVINE COW)-[:HAS_LIVED_WITH]->(:MAHARSHI)'"
      ]
     },
     "execution_count": 134,
     "metadata": {},
     "output_type": "execute_result"
    }
   ],
   "source": [
    "from langchain_community.graphs import Neo4jGraph\n",
    "\n",
    "graph = Neo4jGraph()\n",
    "graph.get_schema"
   ]
  },
  {
   "cell_type": "code",
   "execution_count": 327,
   "id": "ef69e7e7-1418-4dec-8b30-7a747a9401ca",
   "metadata": {
    "scrolled": true
   },
   "outputs": [],
   "source": [
    "def get_schema(G, structured=False):\n",
    "    schema = G.get_structured_schema\n",
    "\n",
    "    lines = []\n",
    "    \n",
    "    nodes = schema['node_props']\n",
    "    node_list = list(nodes.keys())\n",
    "    lines.append(f\"All nodes have properties:\\n{{{nodes[node_list[0]][0]['property']}:{nodes[node_list[0]][0]['type']}}}\")\n",
    "    lines.append(f\"Node labels:\\n{', '.join(node_list)}\")\n",
    "    \n",
    "    edges = schema['relationships']\n",
    "    relationship_list = [e['type'] for e in edges]\n",
    "    relationship_list = list(set(relationship_list))\n",
    "    ontology = {key: {'start':[], 'end':[]} for key in relationship_list}\n",
    "    for e in edges:\n",
    "        rel = e['type']\n",
    "        for n in ['start', 'end']:\n",
    "            if e[n] not in ontology[rel][n]:\n",
    "                ontology[rel][n].append(e[n])\n",
    "\n",
    "\n",
    "    ontology_list = [f\"({'|'.join([':'+n for n in ends['start']])})-[:{rel}]->({'|'.join([':'+n for n in ends['end']])})\" for rel, ends in ontology.items()]\n",
    "    lines.append(f\"Relationships:\\n{'\\n'.join(ontology_list)}\")\n",
    "    if structured:\n",
    "        return {'ontology': ontology, 'nodes': node_list}\n",
    "        \n",
    "    return '\\n\\n'.join(lines)"
   ]
  },
  {
   "cell_type": "markdown",
   "id": "e8a7bdf5-165d-481e-aa2c-6ca929c47250",
   "metadata": {},
   "source": [
    "### Entity Extraction"
   ]
  },
  {
   "cell_type": "code",
   "execution_count": 156,
   "id": "f13ab666-69f5-48f8-b303-ccbeb1c131bc",
   "metadata": {},
   "outputs": [],
   "source": [
    "from typing import List, Optional\n",
    "\n",
    "from langchain_core.prompts import ChatPromptTemplate\n",
    "from langchain_core.pydantic_v1 import BaseModel, Field\n",
    "\n",
    "llm = ChatOpenAI(model=\"gpt-4o\", temperature=0)\n",
    "#llm = ChatAnthropic(model=\"claude-3-5-sonnet-20240620\", temperature=0)\n",
    "#llm = ChatFireworks(model_name=\"accounts/fireworks/models/llama-v3p1-405b-instruct\", api_key=os.environ['FIREWORKS_API_KEY'], temperature=0)\n",
    "\n",
    "class Entities(BaseModel):\n",
    "    \"\"\"Identifying information about entities.\"\"\"\n",
    "\n",
    "    names: List[str] = Field(\n",
    "        ...,\n",
    "        description=\"All the named entities appearing in the text\",\n",
    "    )\n",
    "\n",
    "\n",
    "\n",
    "prompt = ChatPromptTemplate.from_messages(\n",
    "    [\n",
    "        (\n",
    "            \"system\",\n",
    "            \"You are extracting named entities from the text to query from a knowledge graph. The entities should be lemmatized i.e. in prātipadika form.\",\n",
    "        ),\n",
    "        (\n",
    "            \"human\",\n",
    "            \"Use the given format to extract information from the following.\"\n",
    "            \"input: {question}\",\n",
    "        ),\n",
    "    ]\n",
    ")\n",
    "\n",
    "\n",
    "entity_chain = prompt | llm.with_structured_output(Entities)"
   ]
  },
  {
   "cell_type": "code",
   "execution_count": 442,
   "id": "a802d94d-1599-4b58-b9cf-011f982d12be",
   "metadata": {},
   "outputs": [
    {
     "data": {
      "text/plain": [
       "'कस्याः नद्यः तिरे पञ्चवटी अस्ति यत्र सह पत्न्या सह भ्रात्रा च रामोऽवसत्?'"
      ]
     },
     "execution_count": 442,
     "metadata": {},
     "output_type": "execute_result"
    }
   ],
   "source": [
    "#question = qa_df['QUESTION'][27]\n",
    "question = 'कस्याः नद्यः तिरे पञ्चवटी अस्ति यत्र सह पत्न्या सह भ्रात्रा च रामोऽवसत्?'\n",
    "question"
   ]
  },
  {
   "cell_type": "code",
   "execution_count": 443,
   "id": "75b66994-4b54-4675-8aa8-d45327f5efa3",
   "metadata": {},
   "outputs": [
    {
     "data": {
      "text/plain": [
       "Entities(names=['नदी', 'पञ्चवटी', 'पत्नी', 'भ्रातृ', 'राम'])"
      ]
     },
     "execution_count": 443,
     "metadata": {},
     "output_type": "execute_result"
    }
   ],
   "source": [
    "entities = entity_chain.invoke({\"question\": question})\n",
    "entities"
   ]
  },
  {
   "cell_type": "code",
   "execution_count": 523,
   "id": "7a4425c8-dcd7-4019-928d-3f332257c2d0",
   "metadata": {},
   "outputs": [],
   "source": [
    "label_query = \"\"\"MATCH (p)\n",
    "WHERE p.lemma = $value\n",
    "RETURN p.lemma AS result, labels(p)[0] AS type\n",
    "\"\"\"\n",
    "\n",
    "def map_to_database(entities: Entities) -> Optional[str]:\n",
    "    result = \"\"\n",
    "    for entity in entities.names:\n",
    "        responses = graph.query(label_query, {\"value\": entity})\n",
    "        for response in responses:\n",
    "            result += f\"{entity} maps to {response['result']} {response['type']} in database\\n\"\n",
    "            mapped_entity = {'type': response['type'], 'lemma': response['result']}\n",
    "\n",
    "            edge_outward = f\"\"\"MATCH (p:{mapped_entity['type']})-[r]->(q)\n",
    "            WHERE p.lemma = '{mapped_entity['lemma']}'\n",
    "            RETURN r AS relationship, labels(q)[0] AS type\n",
    "            \"\"\"\n",
    "            \n",
    "            edge_inward =f\"\"\"MATCH (p:{mapped_entity['type']})<-[r]-(q)\n",
    "            WHERE p.lemma = '{mapped_entity['lemma']}'\n",
    "            RETURN r AS relationship, labels(q)[0] AS type\n",
    "            \"\"\"\n",
    "\n",
    "            def prune_edges(edges):\n",
    "                out = {}\n",
    "                for edge in edges:\n",
    "                    rel = edge['relationship'][1]\n",
    "                    if rel not in out:\n",
    "                        out[rel] = []\n",
    "                    out[rel].append(edge['type'])\n",
    "                return out\n",
    "                \n",
    "            outward_edges = graph.query(edge_outward)\n",
    "            result += f\"Outgoing relationships from :{response['type']}{{lemma: '{response['result']}'}} are:\\n\"\n",
    "            for e, t in prune_edges(outward_edges).items():\n",
    "                result += f\"-[:{e}->({'|'.join([':'+l for l in t])})]\\n\"\n",
    "                \n",
    "            inward_edges = graph.query(edge_inward)\n",
    "            result += f\"Incoming relationships to :{response['type']}{{lemma: '{response['result']}'}} are:\\n\"\n",
    "            for e, t in prune_edges(inward_edges).items():\n",
    "                result += f\"<-[:{e}-({'|'.join([':'+l for l in t])})]\\n\"\n",
    "\n",
    "            result += '\\n'\n",
    "    \n",
    "    return result"
   ]
  },
  {
   "cell_type": "markdown",
   "id": "18a76931-16b3-411e-bba2-e6864f31ba7e",
   "metadata": {},
   "source": [
    "### Query Generation"
   ]
  },
  {
   "cell_type": "code",
   "execution_count": 538,
   "id": "6776d467-5658-453f-b950-da6b25b556e5",
   "metadata": {},
   "outputs": [],
   "source": [
    "from langchain_core.output_parsers import StrOutputParser\n",
    "from langchain_core.runnables import RunnablePassthrough\n",
    "\n",
    "# Generate Cypher statement based on natural language input\n",
    "cypher_template = \"\"\"Based on the extracted entities and the Neo4j graph ontology involving the extracted entities given below, \n",
    "write a Cypher query that would answer the user's question. Do not use variable names in Sanskrit (Devanagari).\n",
    "only lemmas are in Sanskrit.\n",
    "\n",
    "Entities in the question map to the following database values and their respective allowed ontologies:\n",
    "All nodes have properties: {{lemma: STRING}}\n",
    "{entities_list}\n",
    "\n",
    "Example:\n",
    "Question: \"रामस्य पिता कः?\", given the entities \"राम maps to राम Human in database\", \n",
    "Cypher query:\"MATCH (father)-[:IS_FATHER_OF]->(son:Human {{lemma: 'राम'}})\\nRETURN father.lemma AS father\\n\", \n",
    "\n",
    "Since the knowledge graph is incomplete, give minimalistic queries with minimum entities. Thus generate cypher query to the question below:\n",
    "\n",
    "Question: {question}\n",
    "Cypher query:\"\"\"  # noqa: E501\n",
    "\n",
    "cypher_prompt = ChatPromptTemplate.from_messages(\n",
    "    [\n",
    "        (\n",
    "            \"system\",\n",
    "            \"Given an input question, convert it to a Cypher query. Do not give any preamble.\",\n",
    "        ),\n",
    "        (\"human\", cypher_template),\n",
    "    ]\n",
    ")\n",
    "\n",
    "cypher_response = (\n",
    "    RunnablePassthrough.assign(names=entity_chain)\n",
    "    | RunnablePassthrough.assign(\n",
    "        entities_list=lambda x: map_to_database(x[\"names\"]),\n",
    "        #schema=lambda _: get_schema(graph),\n",
    "    )\n",
    "    | cypher_prompt\n",
    "    | llm.bind(stop=[\"\\nCypherResult:\"])\n",
    "    | StrOutputParser()\n",
    ")"
   ]
  },
  {
   "cell_type": "code",
   "execution_count": 542,
   "id": "b5e53024-3d3c-4a70-b033-5879a905c434",
   "metadata": {},
   "outputs": [
    {
     "name": "stdout",
     "output_type": "stream",
     "text": [
      "```cypher\n",
      "MATCH (forest:Forest {lemma: 'पञ्चवटी'})<-[:FLOWED_BY_THE]-(river:River)\n",
      "RETURN river.lemma AS river\n",
      "```\n"
     ]
    }
   ],
   "source": [
    "cypher = cypher_response.invoke({\"question\": \"कस्याः नद्यः तिरे पञ्चवटी अस्ति यत्र सह पत्न्या सह भ्रात्रा च रामोऽवसत्?\"})\n",
    "print(cypher)"
   ]
  },
  {
   "cell_type": "code",
   "execution_count": 545,
   "id": "163a28db-a629-4ab2-8b44-2d4379b6f8c6",
   "metadata": {},
   "outputs": [
    {
     "data": {
      "text/plain": [
       "[{'river': 'गोदावरी'}]"
      ]
     },
     "execution_count": 545,
     "metadata": {},
     "output_type": "execute_result"
    }
   ],
   "source": [
    "graph.query(cypher.replace('```','').replace('cypher\\n',''))"
   ]
  },
  {
   "cell_type": "code",
   "execution_count": 555,
   "id": "586de5a3-e2cf-461b-bc94-f8a6be727015",
   "metadata": {},
   "outputs": [],
   "source": [
    "from langchain.chains.graph_qa.cypher_utils import CypherQueryCorrector, Schema\n",
    "\n",
    "# Cypher validation tool for relationship directions\n",
    "corrector_schema = [\n",
    "    Schema(el[\"start\"], el[\"type\"], el[\"end\"])\n",
    "    for el in graph.structured_schema.get(\"relationships\")\n",
    "]\n",
    "cypher_validation = CypherQueryCorrector(corrector_schema)\n",
    "\n",
    "# Generate natural language response based on database results\n",
    "response_template = \"\"\"Mould the Cypher response in to proper case/vibhakti (not in prātipadika form) appropriate to the question given below. \n",
    "Final answer should remain in single word.\n",
    "Question: {question}\n",
    "Cypher Response: {response}\"\"\"  # noqa: E501\n",
    "\n",
    "response_prompt = ChatPromptTemplate.from_messages(\n",
    "    [\n",
    "        (\n",
    "            \"system\",\n",
    "            \"Answer the input question taking support of cypher response if not empty. No preamble\",\n",
    "        ),\n",
    "        (\"human\", response_template),\n",
    "    ]\n",
    ")\n",
    "\n",
    "\n",
    "response_chain = response_prompt | llm | StrOutputParser()\n",
    "def run_query(query_str):\n",
    "    try:\n",
    "        response = graph.query(query_str.replace('```','').replace('cypher\\n',''))\n",
    "    except:\n",
    "        response = ''\n",
    "    if type(response) is list:\n",
    "        if len(response) > 0:\n",
    "            response = response[0]\n",
    "            if type(response) is dict:\n",
    "                for key, item in response.items():\n",
    "                    response = item\n",
    "                    break\n",
    "            elif type(response) is not str:\n",
    "                response = ''\n",
    "        else:\n",
    "            response = ''\n",
    "    return response\n",
    "        \n",
    "kgrag_chain = (\n",
    "    RunnablePassthrough.assign(query=cypher_response)\n",
    "    | RunnablePassthrough.assign(\n",
    "        response=lambda x: run_query(x[\"query\"]),\n",
    "    )\n",
    "    | RunnablePassthrough.assign(answer=response_chain)\n",
    ")"
   ]
  },
  {
   "cell_type": "code",
   "execution_count": 557,
   "id": "992ded4e-d98f-4267-9e1a-e33c1d1ef8df",
   "metadata": {},
   "outputs": [
    {
     "name": "stderr",
     "output_type": "stream",
     "text": [
      "Received notification from DBMS server: {severity: WARNING} {code: Neo.ClientNotification.Statement.UnknownRelationshipTypeWarning} {category: UNRECOGNIZED} {title: The provided relationship type is not in the database.} {description: One of the relationship types in your query is not available in the database, make sure you didn't misspell it or that the label is available when you run this statement in your application (the missing relationship type is: BLOCKED)} {position: line: 1, column: 45, offset: 44} for query: \"MATCH (demoness:Human {lemma: 'राक्षसी'})-[:BLOCKED]->(hanuman:Human {lemma: 'हनूमन्तं'})\\nRETURN demoness.lemma AS demoness\"\n"
     ]
    },
    {
     "data": {
      "text/plain": [
       "''"
      ]
     },
     "execution_count": 557,
     "metadata": {},
     "output_type": "execute_result"
    }
   ],
   "source": [
    "def kg_rag_answer(question):\n",
    "    res = kgrag_chain.invoke({\"question\": question})\n",
    "    if res['response'] != '':\n",
    "        return res['answer']\n",
    "    else:\n",
    "        return ''\n",
    "kg_rag_answer(\"का सा राक्षसी या उदधेः उपरि प्लवन्तं हनूमन्तं निवार्य तस्य भक्षणे च मतिं चकार?\")"
   ]
  },
  {
   "cell_type": "code",
   "execution_count": 558,
   "id": "f961c717-ec9a-4650-b07d-806fb8cc3ed8",
   "metadata": {},
   "outputs": [],
   "source": [
    "working_df = pd.read_csv('results/predictions.tsv', sep='\\t')"
   ]
  },
  {
   "cell_type": "code",
   "execution_count": 559,
   "id": "00a597d3-9280-4cce-b37f-ad1ef04b715b",
   "metadata": {
    "scrolled": true
   },
   "outputs": [
    {
     "name": "stderr",
     "output_type": "stream",
     "text": [
      " 10%|████▍                                       | 6/60 [00:18<03:04,  3.42s/it]Received notification from DBMS server: {severity: WARNING} {code: Neo.ClientNotification.Statement.UnknownRelationshipTypeWarning} {category: UNRECOGNIZED} {title: The provided relationship type is not in the database.} {description: One of the relationship types in your query is not available in the database, make sure you didn't misspell it or that the label is available when you run this statement in your application (the missing relationship type is: BLOCKED)} {position: line: 1, column: 45, offset: 44} for query: \"MATCH (demoness:Human {lemma: 'राक्षसी'})-[:BLOCKED]->(hanuman:Human {lemma: 'हनूमन्तं'})\\nRETURN demoness.lemma AS demoness\"\n",
      " 13%|█████▊                                      | 8/60 [00:25<03:11,  3.68s/it]Received notification from DBMS server: {severity: WARNING} {code: Neo.ClientNotification.Statement.UnknownRelationshipTypeWarning} {category: UNRECOGNIZED} {title: The provided relationship type is not in the database.} {description: One of the relationship types in your query is not available in the database, make sure you didn't misspell it or that the label is available when you run this statement in your application (the missing relationship type is: IS_PRIEST_OF)} {position: line: 1, column: 18, offset: 17} for query: \"MATCH (priest)-[:IS_PRIEST_OF]->(king:Human {lemma: 'जनक'})\\nRETURN priest.lemma AS priest\\n\"\n",
      " 15%|██████▌                                     | 9/60 [00:29<03:13,  3.80s/it]Received notification from DBMS server: {severity: WARNING} {code: Neo.ClientNotification.Statement.UnknownRelationshipTypeWarning} {category: UNRECOGNIZED} {title: The provided relationship type is not in the database.} {description: One of the relationship types in your query is not available in the database, make sure you didn't misspell it or that the label is available when you run this statement in your application (the missing relationship type is: IS_YOUNGER_BROTHER_OF)} {position: line: 2, column: 26, offset: 26} for query: \"\\nMATCH (youngerBrother)-[:IS_YOUNGER_BROTHER_OF]->(janaka:Human {lemma: 'जनक'})\\nRETURN youngerBrother.lemma AS name\\n\"\n",
      " 17%|███████▏                                   | 10/60 [00:33<03:01,  3.63s/it]Received notification from DBMS server: {severity: WARNING} {code: Neo.ClientNotification.Statement.UnknownRelationshipTypeWarning} {category: UNRECOGNIZED} {title: The provided relationship type is not in the database.} {description: One of the relationship types in your query is not available in the database, make sure you didn't misspell it or that the label is available when you run this statement in your application (the missing relationship type is: DRANK)} {position: line: 1, column: 23, offset: 22} for query: 'MATCH (rishi:Human)-[:DRANK]->(ocean:Ocean)\\nRETURN rishi.lemma AS rishi\\n'\n",
      "Received notification from DBMS server: {severity: WARNING} {code: Neo.ClientNotification.Statement.UnknownLabelWarning} {category: UNRECOGNIZED} {title: The provided label is not in the database.} {description: One of the labels in your query is not available in the database, make sure you didn't misspell it or that the label is available when you run this statement in your application (the missing label name is: Ocean)} {position: line: 1, column: 38, offset: 37} for query: 'MATCH (rishi:Human)-[:DRANK]->(ocean:Ocean)\\nRETURN rishi.lemma AS rishi\\n'\n",
      " 23%|██████████                                 | 14/60 [00:47<02:44,  3.59s/it]Received notification from DBMS server: {severity: WARNING} {code: Neo.ClientNotification.Statement.UnknownRelationshipTypeWarning} {category: UNRECOGNIZED} {title: The provided relationship type is not in the database.} {description: One of the relationship types in your query is not available in the database, make sure you didn't misspell it or that the label is available when you run this statement in your application (the missing relationship type is: IS_BORN_FROM)} {position: line: 1, column: 18, offset: 17} for query: \"MATCH (poison)-[:IS_BORN_FROM]->(ocean {lemma: 'क्षीरोदधि'})\\nRETURN poison.lemma AS poison\\n\"\n",
      " 30%|████████████▉                              | 18/60 [01:01<02:26,  3.48s/it]Received notification from DBMS server: {severity: WARNING} {code: Neo.ClientNotification.Statement.UnknownRelationshipTypeWarning} {category: UNRECOGNIZED} {title: The provided relationship type is not in the database.} {description: One of the relationship types in your query is not available in the database, make sure you didn't misspell it or that the label is available when you run this statement in your application (the missing relationship type is: HAS_FAMOUS_FOREST)} {position: line: 1, column: 40, offset: 39} for query: \"MATCH (town:Town {lemma: 'अमरावती'})-[:HAS_FAMOUS_FOREST]->(forest)\\nRETURN forest.lemma AS forest\\n\"\n",
      " 33%|██████████████▎                            | 20/60 [01:08<02:24,  3.61s/it]Received notification from DBMS server: {severity: WARNING} {code: Neo.ClientNotification.Statement.UnknownLabelWarning} {category: UNRECOGNIZED} {title: The provided label is not in the database.} {description: One of the labels in your query is not available in the database, make sure you didn't misspell it or that the label is available when you run this statement in your application (the missing label name is: quality)} {position: line: 1, column: 64, offset: 63} for query: \"MATCH (gana:Gana {lemma: 'राक्षस'})<-[:IS_QUALITY_OF]-(quality:quality {lemma: 'षण्मासाः यावत् स्वपिति'})\\nRETURN gana.lemma AS राक्षस\\n\"\n",
      " 37%|███████████████▊                           | 22/60 [01:17<02:29,  3.95s/it]Received notification from DBMS server: {severity: WARNING} {code: Neo.ClientNotification.Statement.UnknownRelationshipTypeWarning} {category: UNRECOGNIZED} {title: The provided relationship type is not in the database.} {description: One of the relationship types in your query is not available in the database, make sure you didn't misspell it or that the label is available when you run this statement in your application (the missing relationship type is: BORN_IN)} {position: line: 1, column: 41, offset: 40} for query: \"MATCH (b:Human {lemma: 'ब्रह्मर्षि'})-[:BORN_IN]->(k:Kshatriya)\\nWHERE (b)-[:ACHIEVED_BY_TAPAS]->(:Brahmin)\\nRETURN b.lemma AS brahmarshi\"\n",
      "Received notification from DBMS server: {severity: WARNING} {code: Neo.ClientNotification.Statement.UnknownLabelWarning} {category: UNRECOGNIZED} {title: The provided label is not in the database.} {description: One of the labels in your query is not available in the database, make sure you didn't misspell it or that the label is available when you run this statement in your application (the missing label name is: Kshatriya)} {position: line: 1, column: 54, offset: 53} for query: \"MATCH (b:Human {lemma: 'ब्रह्मर्षि'})-[:BORN_IN]->(k:Kshatriya)\\nWHERE (b)-[:ACHIEVED_BY_TAPAS]->(:Brahmin)\\nRETURN b.lemma AS brahmarshi\"\n",
      "Received notification from DBMS server: {severity: WARNING} {code: Neo.ClientNotification.Statement.UnknownRelationshipTypeWarning} {category: UNRECOGNIZED} {title: The provided relationship type is not in the database.} {description: One of the relationship types in your query is not available in the database, make sure you didn't misspell it or that the label is available when you run this statement in your application (the missing relationship type is: ACHIEVED_BY_TAPAS)} {position: line: 2, column: 13, offset: 76} for query: \"MATCH (b:Human {lemma: 'ब्रह्मर्षि'})-[:BORN_IN]->(k:Kshatriya)\\nWHERE (b)-[:ACHIEVED_BY_TAPAS]->(:Brahmin)\\nRETURN b.lemma AS brahmarshi\"\n",
      "Received notification from DBMS server: {severity: WARNING} {code: Neo.ClientNotification.Statement.UnknownLabelWarning} {category: UNRECOGNIZED} {title: The provided label is not in the database.} {description: One of the labels in your query is not available in the database, make sure you didn't misspell it or that the label is available when you run this statement in your application (the missing label name is: Brahmin)} {position: line: 2, column: 35, offset: 98} for query: \"MATCH (b:Human {lemma: 'ब्रह्मर्षि'})-[:BORN_IN]->(k:Kshatriya)\\nWHERE (b)-[:ACHIEVED_BY_TAPAS]->(:Brahmin)\\nRETURN b.lemma AS brahmarshi\"\n",
      " 40%|█████████████████▏                         | 24/60 [01:24<02:15,  3.77s/it]Received notification from DBMS server: {severity: WARNING} {code: Neo.ClientNotification.Statement.UnknownRelationshipTypeWarning} {category: UNRECOGNIZED} {title: The provided relationship type is not in the database.} {description: One of the relationship types in your query is not available in the database, make sure you didn't misspell it or that the label is available when you run this statement in your application (the missing relationship type is: TOOK_OLD_AGE_FROM)} {position: line: 1, column: 15, offset: 14} for query: \"MATCH (son)-[:TOOK_OLD_AGE_FROM]->(father:Human {lemma: 'ययाति'})\\nRETURN son.lemma AS son\\n\"\n",
      " 42%|█████████████████▉                         | 25/60 [01:28<02:09,  3.69s/it]Received notification from DBMS server: {severity: WARNING} {code: Neo.ClientNotification.Statement.UnknownRelationshipTypeWarning} {category: UNRECOGNIZED} {title: The provided relationship type is not in the database.} {description: One of the relationship types in your query is not available in the database, make sure you didn't misspell it or that the label is available when you run this statement in your application (the missing relationship type is: MADE_SOMAPAYIN)} {position: line: 1, column: 23, offset: 22} for query: \"MATCH (rishi:Human)-[:MADE_SOMAPAYIN]->(ashvinau:Human {lemma: 'अश्विनौ'})\\nRETURN rishi.lemma AS rishi\"\n",
      " 43%|██████████████████▋                        | 26/60 [01:32<02:07,  3.75s/it]Received notification from DBMS server: {severity: WARNING} {code: Neo.ClientNotification.Statement.UnknownRelationshipTypeWarning} {category: UNRECOGNIZED} {title: The provided relationship type is not in the database.} {description: One of the relationship types in your query is not available in the database, make sure you didn't misspell it or that the label is available when you run this statement in your application (the missing relationship type is: TOOK)} {position: line: 1, column: 67, offset: 66} for query: \"MATCH (town:Town {lemma: 'अयोध्या'})<-[:WENT_TO]-(prince:Human)-[:TOOK]->(children:Human)-[:THREW_INTO]->(river:River)\\nRETURN prince.lemma AS prince\\n\"\n",
      "Received notification from DBMS server: {severity: WARNING} {code: Neo.ClientNotification.Statement.UnknownRelationshipTypeWarning} {category: UNRECOGNIZED} {title: The provided relationship type is not in the database.} {description: One of the relationship types in your query is not available in the database, make sure you didn't misspell it or that the label is available when you run this statement in your application (the missing relationship type is: THREW_INTO)} {position: line: 1, column: 93, offset: 92} for query: \"MATCH (town:Town {lemma: 'अयोध्या'})<-[:WENT_TO]-(prince:Human)-[:TOOK]->(children:Human)-[:THREW_INTO]->(river:River)\\nRETURN prince.lemma AS prince\\n\"\n",
      " 45%|███████████████████▎                       | 27/60 [01:35<02:02,  3.72s/it]Received notification from DBMS server: {severity: WARNING} {code: Neo.ClientNotification.Statement.UnknownRelationshipTypeWarning} {category: UNRECOGNIZED} {title: The provided relationship type is not in the database.} {description: One of the relationship types in your query is not available in the database, make sure you didn't misspell it or that the label is available when you run this statement in your application (the missing relationship type is: BOUND_BY)} {position: line: 2, column: 62, offset: 157} for query: \"MATCH (yajna:Event {lemma: 'यज्ञ'})-[:PARTICIPATED_IN]->(ambareesha:Human {lemma: 'अम्ब्रीष'}),\\n      (varuna:Deity {lemma: 'वरुण'})-[:RELEASED]->(entity)-[:BOUND_BY]->(pasha:Instrument {lemma: 'पाश'}),\\n      (entity)-[:SACRIFICED_AS]->(animal:Animal {lemma: 'वारुण'})\\nRETURN entity.lemma AS entity\\n\"\n",
      "Received notification from DBMS server: {severity: WARNING} {code: Neo.ClientNotification.Statement.UnknownRelationshipTypeWarning} {category: UNRECOGNIZED} {title: The provided relationship type is not in the database.} {description: One of the relationship types in your query is not available in the database, make sure you didn't misspell it or that the label is available when you run this statement in your application (the missing relationship type is: SACRIFICED_AS)} {position: line: 3, column: 18, offset: 220} for query: \"MATCH (yajna:Event {lemma: 'यज्ञ'})-[:PARTICIPATED_IN]->(ambareesha:Human {lemma: 'अम्ब्रीष'}),\\n      (varuna:Deity {lemma: 'वरुण'})-[:RELEASED]->(entity)-[:BOUND_BY]->(pasha:Instrument {lemma: 'पाश'}),\\n      (entity)-[:SACRIFICED_AS]->(animal:Animal {lemma: 'वारुण'})\\nRETURN entity.lemma AS entity\\n\"\n",
      "Received notification from DBMS server: {severity: WARNING} {code: Neo.ClientNotification.Statement.UnknownLabelWarning} {category: UNRECOGNIZED} {title: The provided label is not in the database.} {description: One of the labels in your query is not available in the database, make sure you didn't misspell it or that the label is available when you run this statement in your application (the missing label name is: Event)} {position: line: 1, column: 14, offset: 13} for query: \"MATCH (yajna:Event {lemma: 'यज्ञ'})-[:PARTICIPATED_IN]->(ambareesha:Human {lemma: 'अम्ब्रीष'}),\\n      (varuna:Deity {lemma: 'वरुण'})-[:RELEASED]->(entity)-[:BOUND_BY]->(pasha:Instrument {lemma: 'पाश'}),\\n      (entity)-[:SACRIFICED_AS]->(animal:Animal {lemma: 'वारुण'})\\nRETURN entity.lemma AS entity\\n\"\n",
      "Received notification from DBMS server: {severity: WARNING} {code: Neo.ClientNotification.Statement.UnknownRelationshipTypeWarning} {category: UNRECOGNIZED} {title: The provided relationship type is not in the database.} {description: One of the relationship types in your query is not available in the database, make sure you didn't misspell it or that the label is available when you run this statement in your application (the missing relationship type is: PARTICIPATED_IN)} {position: line: 1, column: 39, offset: 38} for query: \"MATCH (yajna:Event {lemma: 'यज्ञ'})-[:PARTICIPATED_IN]->(ambareesha:Human {lemma: 'अम्ब्रीष'}),\\n      (varuna:Deity {lemma: 'वरुण'})-[:RELEASED]->(entity)-[:BOUND_BY]->(pasha:Instrument {lemma: 'पाश'}),\\n      (entity)-[:SACRIFICED_AS]->(animal:Animal {lemma: 'वारुण'})\\nRETURN entity.lemma AS entity\\n\"\n",
      "Received notification from DBMS server: {severity: WARNING} {code: Neo.ClientNotification.Statement.UnknownRelationshipTypeWarning} {category: UNRECOGNIZED} {title: The provided relationship type is not in the database.} {description: One of the relationship types in your query is not available in the database, make sure you didn't misspell it or that the label is available when you run this statement in your application (the missing relationship type is: RELEASED)} {position: line: 2, column: 40, offset: 135} for query: \"MATCH (yajna:Event {lemma: 'यज्ञ'})-[:PARTICIPATED_IN]->(ambareesha:Human {lemma: 'अम्ब्रीष'}),\\n      (varuna:Deity {lemma: 'वरुण'})-[:RELEASED]->(entity)-[:BOUND_BY]->(pasha:Instrument {lemma: 'पाश'}),\\n      (entity)-[:SACRIFICED_AS]->(animal:Animal {lemma: 'वारुण'})\\nRETURN entity.lemma AS entity\\n\"\n",
      "Received notification from DBMS server: {severity: WARNING} {code: Neo.ClientNotification.Statement.UnknownLabelWarning} {category: UNRECOGNIZED} {title: The provided label is not in the database.} {description: One of the labels in your query is not available in the database, make sure you didn't misspell it or that the label is available when you run this statement in your application (the missing label name is: Instrument)} {position: line: 2, column: 80, offset: 175} for query: \"MATCH (yajna:Event {lemma: 'यज्ञ'})-[:PARTICIPATED_IN]->(ambareesha:Human {lemma: 'अम्ब्रीष'}),\\n      (varuna:Deity {lemma: 'वरुण'})-[:RELEASED]->(entity)-[:BOUND_BY]->(pasha:Instrument {lemma: 'पाश'}),\\n      (entity)-[:SACRIFICED_AS]->(animal:Animal {lemma: 'वारुण'})\\nRETURN entity.lemma AS entity\\n\"\n",
      " 48%|████████████████████▊                      | 29/60 [01:44<02:02,  3.95s/it]Received notification from DBMS server: {severity: WARNING} {code: Neo.ClientNotification.Statement.UnknownRelationshipTypeWarning} {category: UNRECOGNIZED} {title: The provided relationship type is not in the database.} {description: One of the relationship types in your query is not available in the database, make sure you didn't misspell it or that the label is available when you run this statement in your application (the missing relationship type is: WAS_RELEASED_BY)} {position: line: 1, column: 71, offset: 70} for query: \"MATCH (captor)-[:IS_DEFEATED_BY]->(r:Rakshasa {lemma: 'रावण'}), (r)-[:WAS_RELEASED_BY]->(releaser)\\nRETURN captor.lemma AS captor, releaser.lemma AS releaser\\n\"\n",
      " 50%|█████████████████████▌                     | 30/60 [01:48<01:57,  3.93s/it]Received notification from DBMS server: {severity: WARNING} {code: Neo.ClientNotification.Statement.UnknownLabelWarning} {category: UNRECOGNIZED} {title: The provided label is not in the database.} {description: One of the labels in your query is not available in the database, make sure you didn't misspell it or that the label is available when you run this statement in your application (the missing label name is: Text)} {position: line: 1, column: 10, offset: 9} for query: \"MATCH (r:Text {lemma: 'रामायण'})\\nRETURN r.slokas AS slokas\\n\"\n",
      "Received notification from DBMS server: {severity: WARNING} {code: Neo.ClientNotification.Statement.UnknownPropertyKeyWarning} {category: UNRECOGNIZED} {title: The provided property key is not in the database} {description: One of the property names in your query is not available in the database, make sure you didn't misspell it or that the label is available when you run this statement in your application (the missing property name is: slokas)} {position: line: 2, column: 10, offset: 42} for query: \"MATCH (r:Text {lemma: 'रामायण'})\\nRETURN r.slokas AS slokas\\n\"\n",
      " 55%|███████████████████████▋                   | 33/60 [01:59<01:41,  3.75s/it]Received notification from DBMS server: {severity: WARNING} {code: Neo.ClientNotification.Statement.UnknownRelationshipTypeWarning} {category: UNRECOGNIZED} {title: The provided relationship type is not in the database.} {description: One of the relationship types in your query is not available in the database, make sure you didn't misspell it or that the label is available when you run this statement in your application (the missing relationship type is: LIVED_IN)} {position: line: 1, column: 36, offset: 35} for query: \"MATCH (राम:Human {lemma: 'राम'})-[:LIVED_IN]->(वन:Place)\\nRETURN वन.duration AS duration\\n\"\n",
      "Received notification from DBMS server: {severity: WARNING} {code: Neo.ClientNotification.Statement.UnknownPropertyKeyWarning} {category: UNRECOGNIZED} {title: The provided property key is not in the database} {description: One of the property names in your query is not available in the database, make sure you didn't misspell it or that the label is available when you run this statement in your application (the missing property name is: duration)} {position: line: 2, column: 11, offset: 67} for query: \"MATCH (राम:Human {lemma: 'राम'})-[:LIVED_IN]->(वन:Place)\\nRETURN वन.duration AS duration\\n\"\n",
      " 57%|████████████████████████▎                  | 34/60 [02:02<01:32,  3.54s/it]Received notification from DBMS server: {severity: WARNING} {code: Neo.ClientNotification.Statement.UnknownRelationshipTypeWarning} {category: UNRECOGNIZED} {title: The provided relationship type is not in the database.} {description: One of the relationship types in your query is not available in the database, make sure you didn't misspell it or that the label is available when you run this statement in your application (the missing relationship type is: HAS)} {position: line: 1, column: 45, offset: 44} for query: \"MATCH (k:Human {lemma: 'कार्तवीर्याजुन'})-[:HAS]->(b:BodyPart {type: 'arm'})\\nRETURN count(b) AS numberOfArms\\n\"\n",
      "Received notification from DBMS server: {severity: WARNING} {code: Neo.ClientNotification.Statement.UnknownPropertyKeyWarning} {category: UNRECOGNIZED} {title: The provided property key is not in the database} {description: One of the property names in your query is not available in the database, make sure you didn't misspell it or that the label is available when you run this statement in your application (the missing property name is: type)} {position: line: 1, column: 64, offset: 63} for query: \"MATCH (k:Human {lemma: 'कार्तवीर्याजुन'})-[:HAS]->(b:BodyPart {type: 'arm'})\\nRETURN count(b) AS numberOfArms\\n\"\n",
      "Received notification from DBMS server: {severity: WARNING} {code: Neo.ClientNotification.Statement.UnknownLabelWarning} {category: UNRECOGNIZED} {title: The provided label is not in the database.} {description: One of the labels in your query is not available in the database, make sure you didn't misspell it or that the label is available when you run this statement in your application (the missing label name is: BodyPart)} {position: line: 1, column: 54, offset: 53} for query: \"MATCH (k:Human {lemma: 'कार्तवीर्याजुन'})-[:HAS]->(b:BodyPart {type: 'arm'})\\nRETURN count(b) AS numberOfArms\\n\"\n",
      " 60%|█████████████████████████▊                 | 36/60 [02:09<01:27,  3.65s/it]Received notification from DBMS server: {severity: WARNING} {code: Neo.ClientNotification.Statement.UnknownPropertyKeyWarning} {category: UNRECOGNIZED} {title: The provided property key is not in the database} {description: One of the property names in your query is not available in the database, make sure you didn't misspell it or that the label is available when you run this statement in your application (the missing property name is: heads)} {position: line: 2, column: 10, offset: 44} for query: \"MATCH (r:Rakshasa {lemma: 'रावण'})\\nRETURN r.heads AS number_of_heads\\n\"\n",
      " 62%|██████████████████████████▌                | 37/60 [02:12<01:19,  3.45s/it]Received notification from DBMS server: {severity: WARNING} {code: Neo.ClientNotification.Statement.UnknownRelationshipTypeWarning} {category: UNRECOGNIZED} {title: The provided relationship type is not in the database.} {description: One of the relationship types in your query is not available in the database, make sure you didn't misspell it or that the label is available when you run this statement in your application (the missing relationship type is: PERFORMED_ACTION)} {position: line: 1, column: 41, offset: 40} for query: \"MATCH (b:Human {lemma: 'भार्गवरामः'})-[:PERFORMED_ACTION]->(a:Action {lemma: 'निःक्षत्रियां चकार'})\\nRETURN COUNT(a) AS times\"\n",
      "Received notification from DBMS server: {severity: WARNING} {code: Neo.ClientNotification.Statement.UnknownLabelWarning} {category: UNRECOGNIZED} {title: The provided label is not in the database.} {description: One of the labels in your query is not available in the database, make sure you didn't misspell it or that the label is available when you run this statement in your application (the missing label name is: Action)} {position: line: 1, column: 63, offset: 62} for query: \"MATCH (b:Human {lemma: 'भार्गवरामः'})-[:PERFORMED_ACTION]->(a:Action {lemma: 'निःक्षत्रियां चकार'})\\nRETURN COUNT(a) AS times\"\n",
      " 63%|███████████████████████████▏               | 38/60 [02:15<01:12,  3.29s/it]Received notification from DBMS server: {severity: WARNING} {code: Neo.ClientNotification.Statement.UnknownLabelWarning} {category: UNRECOGNIZED} {title: The provided label is not in the database.} {description: One of the labels in your query is not available in the database, make sure you didn't misspell it or that the label is available when you run this statement in your application (the missing label name is: Group)} {position: line: 1, column: 14, offset: 13} for query: \"MATCH (group:Group {lemma: 'आदित्य'})\\nRETURN group.count AS count\\n\"\n",
      "Received notification from DBMS server: {severity: WARNING} {code: Neo.ClientNotification.Statement.UnknownPropertyKeyWarning} {category: UNRECOGNIZED} {title: The provided property key is not in the database} {description: One of the property names in your query is not available in the database, make sure you didn't misspell it or that the label is available when you run this statement in your application (the missing property name is: count)} {position: line: 2, column: 14, offset: 51} for query: \"MATCH (group:Group {lemma: 'आदित्य'})\\nRETURN group.count AS count\\n\"\n",
      " 82%|███████████████████████████████████        | 49/60 [02:56<00:40,  3.65s/it]Received notification from DBMS server: {severity: WARNING} {code: Neo.ClientNotification.Statement.UnknownRelationshipTypeWarning} {category: UNRECOGNIZED} {title: The provided relationship type is not in the database.} {description: One of the relationship types in your query is not available in the database, make sure you didn't misspell it or that the label is available when you run this statement in your application (the missing relationship type is: CURSED)} {position: line: 1, column: 17, offset: 16} for query: \"MATCH (rishi)-[:CURSED]->(hunter)-[:IS_KILLED_BY]->(:Bird)-[:BELONGS_TO]->(:Tribe {lemma: 'निषाद'})\\nRETURN rishi.lemma AS rishi\\n\"\n",
      "Received notification from DBMS server: {severity: WARNING} {code: Neo.ClientNotification.Statement.UnknownRelationshipTypeWarning} {category: UNRECOGNIZED} {title: The provided relationship type is not in the database.} {description: One of the relationship types in your query is not available in the database, make sure you didn't misspell it or that the label is available when you run this statement in your application (the missing relationship type is: BELONGS_TO)} {position: line: 1, column: 62, offset: 61} for query: \"MATCH (rishi)-[:CURSED]->(hunter)-[:IS_KILLED_BY]->(:Bird)-[:BELONGS_TO]->(:Tribe {lemma: 'निषाद'})\\nRETURN rishi.lemma AS rishi\\n\"\n",
      " 83%|███████████████████████████████████▊       | 50/60 [03:00<00:36,  3.61s/it]Received notification from DBMS server: {severity: WARNING} {code: Neo.ClientNotification.Statement.UnknownRelationshipTypeWarning} {category: UNRECOGNIZED} {title: The provided relationship type is not in the database.} {description: One of the relationship types in your query is not available in the database, make sure you didn't misspell it or that the label is available when you run this statement in your application (the missing relationship type is: GAVE)} {position: line: 1, column: 45, offset: 44} for query: \"MATCH (giver:Human {lemma: 'भार्गव-राम'})-[:GAVE]->(item:Bow)-[:TO]->(receiver:Human {lemma: 'दाशरथि-राम'})\\nRETURN item.lemma AS bow\\n\"\n",
      "Received notification from DBMS server: {severity: WARNING} {code: Neo.ClientNotification.Statement.UnknownRelationshipTypeWarning} {category: UNRECOGNIZED} {title: The provided relationship type is not in the database.} {description: One of the relationship types in your query is not available in the database, make sure you didn't misspell it or that the label is available when you run this statement in your application (the missing relationship type is: TO)} {position: line: 1, column: 65, offset: 64} for query: \"MATCH (giver:Human {lemma: 'भार्गव-राम'})-[:GAVE]->(item:Bow)-[:TO]->(receiver:Human {lemma: 'दाशरथि-राम'})\\nRETURN item.lemma AS bow\\n\"\n",
      " 87%|█████████████████████████████████████▎     | 52/60 [03:08<00:31,  3.94s/it]Received notification from DBMS server: {severity: WARNING} {code: Neo.ClientNotification.Statement.UnknownRelationshipTypeWarning} {category: UNRECOGNIZED} {title: The provided relationship type is not in the database.} {description: One of the relationship types in your query is not available in the database, make sure you didn't misspell it or that the label is available when you run this statement in your application (the missing relationship type is: GRANTED_DIVINE_WEAPON_TO)} {position: line: 1, column: 22, offset: 21} for query: \"MATCH (deva:Deity)-[:GRANTED_DIVINE_WEAPON_TO]->(vishwamitra:Human {lemma: 'विश्वामित्र'})\\nRETURN deva.lemma AS deity\\n\"\n",
      " 97%|█████████████████████████████████████████▌ | 58/60 [03:30<00:07,  3.57s/it]Received notification from DBMS server: {severity: WARNING} {code: Neo.ClientNotification.Statement.UnknownRelationshipTypeWarning} {category: UNRECOGNIZED} {title: The provided relationship type is not in the database.} {description: One of the relationship types in your query is not available in the database, make sure you didn't misspell it or that the label is available when you run this statement in your application (the missing relationship type is: LOCATED_IN)} {position: line: 1, column: 42, offset: 41} for query: \"MATCH (place:Place {lemma: 'जनस्थान'})-[:LOCATED_IN]->(forest:Forest)\\nRETURN forest.lemma AS forest\\n\"\n",
      "100%|███████████████████████████████████████████| 60/60 [03:42<00:00,  3.70s/it]\n"
     ]
    }
   ],
   "source": [
    "working_df['gpt-4o-KG-RAG-responses'] = working_df.progress_apply(lambda x: kg_rag_answer(x['QUESTION']), axis=1)"
   ]
  },
  {
   "cell_type": "code",
   "execution_count": 560,
   "id": "9f0fdce7-f314-4e42-9de1-9e0cbc485f97",
   "metadata": {},
   "outputs": [
    {
     "data": {
      "text/plain": [
       "{'QUESTION': 0.0,\n",
       " 'ANSWER': 1.0,\n",
       " 'gpt-4o': 0.483,\n",
       " 'gpt-4': 0.517,\n",
       " 'gpt-3.5-turbo': 0.0,\n",
       " 'gpt-4o-RAG': 0.55,\n",
       " 'gpt-4o-KG-RAG': 0.483,\n",
       " 'claude-3-5-sonnet': 0.717,\n",
       " 'claude-3.5-sonnet-RAG': 0.6,\n",
       " 'gemini-1.0-pro': 0.183,\n",
       " 'gemini-1.5-flash': 0.267,\n",
       " 'gemini-1.5-pro': 0.567,\n",
       " 'mistral-large': 0.583,\n",
       " 'llama-3.1-405B-instruct': 0.433,\n",
       " 'mistral-large-RAG': 0.567,\n",
       " 'llama-3.1-80b-i-KG-RAG': 0.2,\n",
       " 'gpt-4o-RAG-ft': 0.567,\n",
       " 'gpt-4o-RAG-gl': 0.433,\n",
       " 'gpt-4o-KG-RAG-responses': 0.133,\n",
       " 'gpt-4o-KG-RAG-query': 0.0}"
      ]
     },
     "execution_count": 560,
     "metadata": {},
     "output_type": "execute_result"
    }
   ],
   "source": [
    "models = working_df.columns\n",
    "scores = {m: 0 for m in models}\n",
    "\n",
    "for m in models:\n",
    "    em = working_df.apply(lambda x: str(x['ANSWER']).strip() == str(x[m]).strip(), axis=1)\n",
    "    scores[m] = round(em.sum()/len(em), 3)\n",
    "\n",
    "scores"
   ]
  },
  {
   "cell_type": "code",
   "execution_count": 561,
   "id": "c41320cc-745f-4837-b192-4e5e8985c28c",
   "metadata": {},
   "outputs": [],
   "source": [
    "working_df.to_csv('results/predictions.tsv', index=False, sep='\\t')"
   ]
  },
  {
   "cell_type": "code",
   "execution_count": 192,
   "id": "e26f1cc2-90d2-4a91-b0ca-63feddc400e0",
   "metadata": {},
   "outputs": [
    {
     "data": {
      "text/plain": [
       "'पुष्पके'"
      ]
     },
     "execution_count": 192,
     "metadata": {},
     "output_type": "execute_result"
    }
   ],
   "source": [
    "working_df['gpt-4o-KG-RAG'][0]"
   ]
  },
  {
   "cell_type": "markdown",
   "id": "85573baa-e435-4148-a6bf-c03dfcc02c1c",
   "metadata": {},
   "source": [
    "### Evaluating generated cypher query quality"
   ]
  },
  {
   "cell_type": "code",
   "execution_count": 562,
   "id": "8d6f211d-5ee1-4d3c-a55f-cd1b38182ba2",
   "metadata": {},
   "outputs": [],
   "source": [
    "cypher_queries = working_df['gpt-4o-KG-RAG-query']"
   ]
  },
  {
   "cell_type": "code",
   "execution_count": 563,
   "id": "b973a87c-cb6c-4c50-a1a0-77966e7b159e",
   "metadata": {},
   "outputs": [],
   "source": [
    "query_text = cypher_queries[0]"
   ]
  },
  {
   "cell_type": "code",
   "execution_count": 564,
   "id": "b4be84c3-c9e3-440d-86a0-18be3ee9f967",
   "metadata": {},
   "outputs": [],
   "source": [
    "import regex as re\n",
    "\n",
    "edge_forward = re.compile(r\"\\((.+?)\\)\\-\\[:(\\S+?)\\]\\->\\((.+?)\\),?\")\n",
    "edge_backward = re.compile(r\"\\((.+?)\\)<\\-\\[:(\\S+?)\\]\\-\\((.+?)\\),?\")\n",
    "label_pattern0 = re.compile(r\"\\S*?:(.+)\")\n",
    "label_pattern1 = re.compile(r\"(\\S+)\\s*\\{lemma:\\s*(.+)\\}\")"
   ]
  },
  {
   "cell_type": "code",
   "execution_count": 565,
   "id": "d6a4b1d3-5ae5-40b6-a1ce-598e74ee260a",
   "metadata": {},
   "outputs": [],
   "source": [
    "match = edge_backward.findall(query_text)"
   ]
  },
  {
   "cell_type": "code",
   "execution_count": 566,
   "id": "2c6989d0-c27e-4c1a-b78b-224b5ae203b5",
   "metadata": {},
   "outputs": [
    {
     "data": {
      "text/plain": [
       "\"```cypher\\nMATCH (राम:Human {lemma: 'राम'})-[:RETURNED_TO]->(अयोध्या:Town {lemma: 'अयोध्या'})\\nRETURN राम.lemma AS राम, अयोध्या.lemma AS अयोध्या\\n```\""
      ]
     },
     "execution_count": 566,
     "metadata": {},
     "output_type": "execute_result"
    }
   ],
   "source": [
    "query_text"
   ]
  },
  {
   "cell_type": "code",
   "execution_count": 567,
   "id": "5f37b052-7294-4769-a279-cb131d5d0853",
   "metadata": {},
   "outputs": [
    {
     "data": {
      "text/plain": [
       "[]"
      ]
     },
     "execution_count": 567,
     "metadata": {},
     "output_type": "execute_result"
    }
   ],
   "source": [
    "match"
   ]
  },
  {
   "cell_type": "code",
   "execution_count": 568,
   "id": "58c2e99c-3109-4380-b7dd-a977b31bd8b9",
   "metadata": {},
   "outputs": [],
   "source": [
    "def label_parse(node):\n",
    "    if ':' not in node:\n",
    "        return {'label': '', 'lemma': ''}\n",
    "    outer_match = label_pattern0.findall(node)[0]\n",
    "\n",
    "    if 'lemma' not in outer_match:\n",
    "        return {'label': outer_match, 'lemma': ''}\n",
    "\n",
    "    label, lemma = label_pattern1.findall(outer_match)[0]\n",
    "    return {'label': label, 'lemma': lemma.replace(\"'\",'')}"
   ]
  },
  {
   "cell_type": "code",
   "execution_count": 569,
   "id": "ffb7f072-bb4a-4fb4-953c-8f91b47e108c",
   "metadata": {},
   "outputs": [
    {
     "name": "stderr",
     "output_type": "stream",
     "text": [
      "100%|████████████████████████████████████████| 60/60 [00:00<00:00, 94254.02it/s]\n"
     ]
    }
   ],
   "source": [
    "relationships = []\n",
    "nodes = []\n",
    "\n",
    "for query in tqdm(cypher_queries):\n",
    "    match_forward = edge_forward.findall(query)\n",
    "    match_backward = edge_backward.findall(query)\n",
    "\n",
    "    for match in match_forward:\n",
    "        start = label_parse(match[0])\n",
    "        end = label_parse(match[2])\n",
    "\n",
    "        relationships.append({'start': start['label'], 'relationship': match[1], 'end': end['label']})\n",
    "        if start['label'] != '' and start['lemma'] != '':\n",
    "            nodes.append(start)\n",
    "        if end['label'] != '' and end['lemma'] != '':\n",
    "            nodes.append(end)\n",
    "\n",
    "    for match in match_backward:\n",
    "        start = label_parse(match[2])\n",
    "        end = label_parse(match[0])\n",
    "\n",
    "        relationships.append({'start': start['label'], 'relationship': match[1], 'end': end['label']})\n",
    "        if start['label'] != '' and start['lemma'] != '':\n",
    "            nodes.append(start)\n",
    "        if end['label'] != '' and end['lemma'] != '':\n",
    "            nodes.append(end)"
   ]
  },
  {
   "cell_type": "code",
   "execution_count": 570,
   "id": "98aab6c8-ca8a-4857-be1e-6ac651373cd2",
   "metadata": {},
   "outputs": [
    {
     "data": {
      "text/plain": [
       "{'valid_label': 0.0,\n",
       " 'valid_lemma': 0.78,\n",
       " 'valid_label_lemma': 0.94,\n",
       " 'valid_ontology': 0.02,\n",
       " 'valid_relationship': 0.69,\n",
       " 'valid_start_type': 0.64,\n",
       " 'valid_end_type': 0.02}"
      ]
     },
     "execution_count": 570,
     "metadata": {},
     "output_type": "execute_result"
    }
   ],
   "source": [
    "### Verify nodes\n",
    "valid_label = []\n",
    "label_lemma = []\n",
    "valid_lemma = []\n",
    "\n",
    "schema = get_schema(graph, structured=True)\n",
    "for node in nodes:\n",
    "    if node['label'] in schema['nodes']:\n",
    "        valid_label.append(1)\n",
    "    else:\n",
    "        valid_label.append(0)\n",
    "\n",
    "    if node['lemma'] != '':\n",
    "        lemma_match = graph.query(f\"\"\"MATCH (p)\n",
    "                        WHERE p.lemma CONTAINS '{node['lemma']}'\n",
    "                        RETURN p.lemma AS result, labels(p)[0] AS type\n",
    "                        LIMIT 1\n",
    "                        \"\"\")\n",
    "        if len(lemma_match) == 0:\n",
    "            valid_lemma.append(0)\n",
    "        else:\n",
    "            valid_lemma.append(1)\n",
    "            if lemma_match[0]['type'] == node['label']:\n",
    "                label_lemma.append(1)\n",
    "            else:\n",
    "                label_lemma.append(0)\n",
    "\n",
    "valid_ontology = []\n",
    "valid_relationship = []\n",
    "valid_start_type = []\n",
    "valid_end_type = []\n",
    "for edge in relationships:\n",
    "    rel, start, end = edge['relationship'], edge['start'], edge['end']\n",
    "    valid_ontology.append((rel in list(schema['ontology'].keys())) and \n",
    "                          (start=='' or start in schema['ontology'][rel]['start']) and\n",
    "                          (end=='' or end in schema['ontology'][rel]['end']))\n",
    "    valid_relationship.append(rel in list(schema['ontology'].keys()))\n",
    "\n",
    "    if rel in list(schema['ontology'].keys()):\n",
    "        valid_start_type.append(start=='' or start in schema['ontology'][rel]['start'])\n",
    "        valid_end_type.append(end=='' or end in schema['ontology'][rel]['end'])\n",
    "\n",
    "results = {'valid_label': np.mean(valid_label), 'valid_lemma': np.mean(valid_lemma), \n",
    "           'valid_label_lemma': np.mean(label_lemma), 'valid_ontology': np.mean(valid_ontology),\n",
    "           'valid_relationship': np.mean(valid_relationship), 'valid_start_type': np.mean(valid_start_type),\n",
    "           'valid_end_type': np.mean(valid_end_type)}\n",
    "\n",
    "for key, val in results.items():\n",
    "    results[key] = round(val, 2)\n",
    "\n",
    "results"
   ]
  },
  {
   "cell_type": "code",
   "execution_count": 571,
   "id": "b6ab174b-6651-42bb-955c-c65f9a732bb3",
   "metadata": {},
   "outputs": [
    {
     "data": {
      "text/plain": [
       "{'start': '', 'relationship': 'IS_FATHER_OF', 'end': 'Human'}"
      ]
     },
     "execution_count": 571,
     "metadata": {},
     "output_type": "execute_result"
    }
   ],
   "source": [
    "edge"
   ]
  },
  {
   "cell_type": "code",
   "execution_count": null,
   "id": "811ca8fd-91ed-4369-a3ee-43a43b77eaff",
   "metadata": {},
   "outputs": [],
   "source": []
  }
 ],
 "metadata": {
  "kernelspec": {
   "display_name": "Python 3 (ipykernel)",
   "language": "python",
   "name": "python3"
  },
  "language_info": {
   "codemirror_mode": {
    "name": "ipython",
    "version": 3
   },
   "file_extension": ".py",
   "mimetype": "text/x-python",
   "name": "python",
   "nbconvert_exporter": "python",
   "pygments_lexer": "ipython3",
   "version": "3.12.3"
  }
 },
 "nbformat": 4,
 "nbformat_minor": 5
}
